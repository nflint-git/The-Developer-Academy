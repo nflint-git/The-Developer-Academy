{
 "cells": [
  {
   "cell_type": "code",
   "execution_count": 8,
   "metadata": {},
   "outputs": [],
   "source": [
    "my_list = [\"i\", \"d\", \"l\", \"e\"]\n",
    "\n"
   ]
  },
  {
   "cell_type": "code",
   "execution_count": 9,
   "metadata": {},
   "outputs": [
    {
     "name": "stdout",
     "output_type": "stream",
     "text": [
      "['i', 'd', 'l', 'e']\n"
     ]
    }
   ],
   "source": [
    "print(my_list)"
   ]
  },
  {
   "cell_type": "code",
   "execution_count": 10,
   "metadata": {},
   "outputs": [
    {
     "name": "stdout",
     "output_type": "stream",
     "text": [
      "['i', 'e']\n"
     ]
    }
   ],
   "source": [
    "## delete an item\n",
    "del my_list[1:3] ##like the range, does not include the last position\n",
    "print(my_list)"
   ]
  },
  {
   "cell_type": "code",
   "execution_count": 11,
   "metadata": {},
   "outputs": [
    {
     "name": "stdout",
     "output_type": "stream",
     "text": [
      "['i', 'n']\n"
     ]
    }
   ],
   "source": [
    "## replacement\n",
    "my_list[1] = \"n\"\n",
    "print(my_list)"
   ]
  },
  {
   "cell_type": "code",
   "execution_count": 12,
   "metadata": {},
   "outputs": [
    {
     "name": "stdout",
     "output_type": "stream",
     "text": [
      "['s', 'i', 'n']\n"
     ]
    }
   ],
   "source": [
    "#new list modifying the old list\n",
    "new_list = [\"s\"] + my_list\n",
    "print(new_list)"
   ]
  },
  {
   "cell_type": "code",
   "execution_count": 13,
   "metadata": {},
   "outputs": [
    {
     "name": "stdout",
     "output_type": "stream",
     "text": [
      "['s', 'i', 'n', 'g']\n"
     ]
    }
   ],
   "source": [
    "# append an item to the end\n",
    "new_list.append(\"g\")\n",
    "print(new_list)"
   ]
  },
  {
   "cell_type": "code",
   "execution_count": 14,
   "metadata": {},
   "outputs": [
    {
     "name": "stdout",
     "output_type": "stream",
     "text": [
      "['s', 't', 'i', 'n', 'g']\n"
     ]
    }
   ],
   "source": [
    "##insert at an index\n",
    "new_list.insert(1,\"t\")\n",
    "print(new_list)"
   ]
  },
  {
   "cell_type": "code",
   "execution_count": 18,
   "metadata": {},
   "outputs": [
    {
     "name": "stdout",
     "output_type": "stream",
     "text": [
      "s\n"
     ]
    }
   ],
   "source": [
    "## using the random library \n",
    "\n",
    "import random\n",
    "letter = random.choice(new_list)\n",
    "print(letter)"
   ]
  },
  {
   "cell_type": "code",
   "execution_count": 24,
   "metadata": {},
   "outputs": [
    {
     "name": "stdout",
     "output_type": "stream",
     "text": [
      "[0, 1, 2, 3, 4]\n",
      "5\n"
     ]
    },
    {
     "data": {
      "text/plain": [
       "10"
      ]
     },
     "execution_count": 24,
     "metadata": {},
     "output_type": "execute_result"
    }
   ],
   "source": [
    "final_list = []\n",
    "for i in new_list:\n",
    "    final_list.append(new_list.index(i)) ##index returns the position of the argument\n",
    "## this creates a list of the indexs after appending each index position\n",
    "\n",
    "print(final_list)\n",
    "\n",
    "print(len(final_list))\n",
    "\n",
    "sum(final_list)"
   ]
  },
  {
   "cell_type": "code",
   "execution_count": 26,
   "metadata": {},
   "outputs": [
    {
     "name": "stdout",
     "output_type": "stream",
     "text": [
      "4\n",
      "3\n",
      "2\n",
      "1\n",
      "0\n"
     ]
    }
   ],
   "source": [
    "#reverse function\n",
    "\n",
    "for x in reversed(final_list):\n",
    "    print(x)"
   ]
  },
  {
   "cell_type": "code",
   "execution_count": 39,
   "metadata": {},
   "outputs": [
    {
     "name": "stdout",
     "output_type": "stream",
     "text": [
      "[1, 2, 3, 4, 5, 6, 7, 8, 9, 10]\n",
      "55\n",
      "5.5\n",
      "1: is below the average\n",
      "2: is below the average\n",
      "3: is below the average\n",
      "4: is below the average\n",
      "5: is below the average\n",
      "6: is greater than the average\n",
      "7: is greater than the average\n",
      "8: is greater than the average\n",
      "9: is greater than the average\n",
      "10: is greater than the average\n"
     ]
    }
   ],
   "source": [
    "## create a list of 10 integers\n",
    "ten_list =[]\n",
    "\n",
    "for x in range(1,11):\n",
    "    ten_list.append(x)\n",
    "\n",
    "print(ten_list)\n",
    "\n",
    "print(sum(ten_list))\n",
    "\n",
    "average = sum(ten_list)/len(ten_list)\n",
    "print(average)\n",
    "\n",
    "for x in ten_list:\n",
    "    if x > average:\n",
    "        print(str(x) + \": is greater than the average\")\n",
    "    elif x == average:\n",
    "        print(str(x) + \": is equal to the average\")\n",
    "    else:\n",
    "        print(str(x) + \": is below the average\")\n"
   ]
  },
  {
   "cell_type": "code",
   "execution_count": 49,
   "metadata": {},
   "outputs": [
    {
     "name": "stdout",
     "output_type": "stream",
     "text": [
      "[1, 2, 3, 4, 5, 6, 8, 9, 10, 1]\n"
     ]
    }
   ],
   "source": [
    "##allows the user to input the list\n",
    "user_number = []\n",
    "\n",
    "for i in range(1, 11):\n",
    "    while True:\n",
    "        user_inputs = input(f\"Please enter a number: #{i}\") #will show which number\n",
    "        try:\n",
    "            num = int(user_inputs)\n",
    "            user_number.append(num)\n",
    "            break\n",
    "        except ValueError:\n",
    "            print(\"That is not a valid input.\")\n",
    "\n",
    "print(user_number)"
   ]
  },
  {
   "cell_type": "code",
   "execution_count": null,
   "metadata": {},
   "outputs": [],
   "source": [
    "## playing around with try and except functions\n",
    "while True:\n",
    "    user_input = input(\"Enter Y or N.\")\n",
    "    try:\n",
    "        chosen = user_input.lower()\n",
    "        "
   ]
  },
  {
   "cell_type": "code",
   "execution_count": 51,
   "metadata": {},
   "outputs": [
    {
     "data": {
      "text/plain": [
       "4.1472"
      ]
     },
     "execution_count": 51,
     "metadata": {},
     "output_type": "execute_result"
    }
   ],
   "source": [
    "#round and eval functions\n",
    "num = 3.1472\n",
    "round(num, 2)\n",
    "eval(\"num + 1\") #exception on behaviour to detect globals and local vars"
   ]
  },
  {
   "cell_type": "code",
   "execution_count": 52,
   "metadata": {},
   "outputs": [
    {
     "name": "stdout",
     "output_type": "stream",
     "text": [
      "16\n"
     ]
    }
   ],
   "source": [
    "# user defined functions\n",
    "\n",
    "def square(number):\n",
    "        squared_num = number**2\n",
    "        return squared_num\n",
    "\n",
    "answer = square(4)\n",
    "\n",
    "print(answer)"
   ]
  },
  {
   "cell_type": "code",
   "execution_count": 68,
   "metadata": {},
   "outputs": [
    {
     "name": "stdout",
     "output_type": "stream",
     "text": [
      "100000.0\n"
     ]
    }
   ],
   "source": [
    "## declare and test function to conver kg to lbs\n",
    "\n",
    "def kg_convert(lbs): \n",
    "    kg_converted = lbs/ 2.2\n",
    "    return kg_converted\n",
    "\n",
    "print(round(kg_convert(220000),3))\n"
   ]
  },
  {
   "cell_type": "code",
   "execution_count": 59,
   "metadata": {},
   "outputs": [
    {
     "name": "stdout",
     "output_type": "stream",
     "text": [
      "5.555555555555555\n"
     ]
    }
   ],
   "source": [
    "## declare and test function to convert temp from Fh to Cs\n",
    "\n",
    "def celsius_convert(fahrenheit):\n",
    "    converter = (fahrenheit-32)*(5/9)\n",
    "    return converter\n",
    "\n",
    "print(celsius_convert(42))"
   ]
  },
  {
   "cell_type": "code",
   "execution_count": null,
   "metadata": {},
   "outputs": [],
   "source": [
    "#file usage, r means reading the file\n",
    "with open(\"test.txt\", \"r\") as file:\n",
    "    for line in file: #the loop goes downs the rows of text\n",
    "        print(line)\n",
    "\n",
    "# splitting lines when printing a text file\n",
    "# commas can be removed with .split(\",\")\n",
    "# .rstrip() removes all invisible lines, commas, quotations \n",
    "\n",
    "#writing or appending a text file using a function\n",
    "\n",
    "def save_to_file(first_name, surname, age):\n",
    "    with open(\"new_data.txt\", \"w\") as f: #w for write\n",
    "        line = \",\".join([first_name, surname, age])   #join function is fast and efficient\n",
    "        f.write(line +\"\\n\")\n",
    "        f.close()\n",
    "first_name = input(\"Enter your name\")\n",
    "surname = input (\"enter your surname\")\n",
    "age = input(\"Enter your age\")\n",
    "\n",
    "save_to_file(first_name, surname, age)\n"
   ]
  },
  {
   "cell_type": "code",
   "execution_count": null,
   "metadata": {},
   "outputs": [],
   "source": [
    "#working with a csv file\n",
    "\n",
    "import csv\n",
    "with open(\"csvdata.csv\", \"r\") as csvfile:\n",
    "    reader = csv.reader(csvfile)\n",
    "    for line in reader:\n",
    "        print(line[0], line[1])\n",
    "\n",
    "\n",
    "#appending to an exisitng csv file (can also write from scratch)\n",
    "with open((\"csvdata2.csv\"), mode =\"a\") as csvfile:\n",
    "    character_writer = csv.writer(csv_file, delimiter=\",\",quotechar=\"\", quoting=csv.QUOTE_MINIMAL)\n",
    "    character_writer.writerow([\"Margo\", \"Gru\"])\n",
    "    character_writer.writerow([\"Edith\", \"Gru\"])\n",
    "    character_writer.writerow([\"Agnes\", \"Gru\"])"
   ]
  },
  {
   "cell_type": "code",
   "execution_count": null,
   "metadata": {},
   "outputs": [],
   "source": [
    "#create a text file where the user inputs name and age\n",
    "import csv\n",
    "with open((\"csvtest.csv\"), mode =\"a\") as csvfile:\n",
    "    character_writer = csv.writer(csvfile, delimiter=\",\",quotechar=\"\", quoting=csv.QUOTE_MINIMAL)\n",
    "    character_writer.writerow([\"Margo\", \"Gru\"])\n",
    "    character_writer.writerow([\"Edith\", \"Gru\"])\n",
    "    character_writer.writerow([\"Agnes\", \"Gru\"])"
   ]
  }
 ],
 "metadata": {
  "kernelspec": {
   "display_name": "Python 3",
   "language": "python",
   "name": "python3"
  },
  "language_info": {
   "codemirror_mode": {
    "name": "ipython",
    "version": 3
   },
   "file_extension": ".py",
   "mimetype": "text/x-python",
   "name": "python",
   "nbconvert_exporter": "python",
   "pygments_lexer": "ipython3",
   "version": "3.12.1"
  }
 },
 "nbformat": 4,
 "nbformat_minor": 2
}
