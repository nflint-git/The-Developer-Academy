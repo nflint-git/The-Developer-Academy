{
 "cells": [
  {
   "cell_type": "code",
   "execution_count": 5,
   "metadata": {},
   "outputs": [
    {
     "name": "stdout",
     "output_type": "stream",
     "text": [
      "False\n",
      "3\n"
     ]
    }
   ],
   "source": [
    "## string\n",
    "\n",
    "\"Nick, 25\"\n",
    "\n",
    "## Integer\n",
    "10, -1 ,0 , 5\n",
    "\n",
    "##float\n",
    "0.1234\n",
    "\n",
    "## boolean\n",
    "print(2>3 -- True)\n",
    "\n",
    "a = 1\n",
    "b = 2\n",
    "sum = a + b\n",
    "print(sum)\n"
   ]
  },
  {
   "cell_type": "code",
   "execution_count": 8,
   "metadata": {},
   "outputs": [
    {
     "name": "stdout",
     "output_type": "stream",
     "text": [
      "the total of your numbers are 23\n"
     ]
    }
   ],
   "source": [
    "#input functionn\n",
    "\n",
    "chosen_num = input(\"Please input a number\")\n",
    "chosen_num2 = input(\"Please choose another number\")\n",
    "\n",
    "total_chosen = print(\"the total of your numbers are\", chosen_num + chosen_num2)"
   ]
  },
  {
   "cell_type": "code",
   "execution_count": 12,
   "metadata": {},
   "outputs": [
    {
     "name": "stdout",
     "output_type": "stream",
     "text": [
      "4\n"
     ]
    }
   ],
   "source": [
    "test_input = int(input(\"input please\"))\n",
    "outcome = test_input + 2 \n",
    "\n",
    "print(outcome)"
   ]
  },
  {
   "cell_type": "code",
   "execution_count": 13,
   "metadata": {},
   "outputs": [
    {
     "name": "stdout",
     "output_type": "stream",
     "text": [
      "1010\n"
     ]
    }
   ],
   "source": [
    "## concatenate strings test\n",
    "ab = \"10\"\n",
    "cd = \"10\"\n",
    "\n",
    "abcd = ab + cd\n",
    "print(abcd)"
   ]
  },
  {
   "cell_type": "code",
   "execution_count": 15,
   "metadata": {},
   "outputs": [
    {
     "name": "stdout",
     "output_type": "stream",
     "text": [
      "2.0\n"
     ]
    }
   ],
   "source": [
    "input1 = int(input(\"please input a number\"))\n",
    "input2 = int(input(\"please input a second number\"))\n",
    "input3 = int(input(\"please input a third number\"))\n",
    "\n",
    "tally = input1 + input2 + input3\n",
    "print(tally/3)\n"
   ]
  },
  {
   "cell_type": "code",
   "execution_count": 1,
   "metadata": {},
   "outputs": [
    {
     "name": "stdout",
     "output_type": "stream",
     "text": [
      "2.0\n"
     ]
    }
   ],
   "source": [
    "count = 0\n",
    "sum = 0 \n",
    "for x in range(0,3):\n",
    "    sum += int(input(\"please enter a number\"))\n",
    "    count += 1\n",
    "\n",
    "\n",
    "print(sum/count)\n"
   ]
  },
  {
   "cell_type": "code",
   "execution_count": 37,
   "metadata": {},
   "outputs": [
    {
     "ename": "KeyboardInterrupt",
     "evalue": "Interrupted by user",
     "output_type": "error",
     "traceback": [
      "\u001b[1;31m---------------------------------------------------------------------------\u001b[0m",
      "\u001b[1;31mKeyboardInterrupt\u001b[0m                         Traceback (most recent call last)",
      "Cell \u001b[1;32mIn[37], line 1\u001b[0m\n\u001b[1;32m----> 1\u001b[0m y \u001b[38;5;241m=\u001b[39m \u001b[38;5;28mint\u001b[39m(\u001b[38;5;28;43minput\u001b[39;49m\u001b[43m(\u001b[49m\u001b[38;5;124;43m\"\u001b[39;49m\u001b[38;5;124;43mwhat times table would you like?\u001b[39;49m\u001b[38;5;124;43m\"\u001b[39;49m\u001b[43m)\u001b[49m)\n\u001b[0;32m      3\u001b[0m \u001b[38;5;28;01mfor\u001b[39;00m x \u001b[38;5;129;01min\u001b[39;00m \u001b[38;5;28mrange\u001b[39m(\u001b[38;5;241m1\u001b[39m,\u001b[38;5;241m13\u001b[39m):\n\u001b[0;32m      4\u001b[0m     \u001b[38;5;28mprint\u001b[39m(x\u001b[38;5;241m*\u001b[39my)\n",
      "File \u001b[1;32m~\\AppData\\Roaming\\Python\\Python312\\site-packages\\ipykernel\\kernelbase.py:1262\u001b[0m, in \u001b[0;36mKernel.raw_input\u001b[1;34m(self, prompt)\u001b[0m\n\u001b[0;32m   1260\u001b[0m     msg \u001b[38;5;241m=\u001b[39m \u001b[38;5;124m\"\u001b[39m\u001b[38;5;124mraw_input was called, but this frontend does not support input requests.\u001b[39m\u001b[38;5;124m\"\u001b[39m\n\u001b[0;32m   1261\u001b[0m     \u001b[38;5;28;01mraise\u001b[39;00m StdinNotImplementedError(msg)\n\u001b[1;32m-> 1262\u001b[0m \u001b[38;5;28;01mreturn\u001b[39;00m \u001b[38;5;28;43mself\u001b[39;49m\u001b[38;5;241;43m.\u001b[39;49m\u001b[43m_input_request\u001b[49m\u001b[43m(\u001b[49m\n\u001b[0;32m   1263\u001b[0m \u001b[43m    \u001b[49m\u001b[38;5;28;43mstr\u001b[39;49m\u001b[43m(\u001b[49m\u001b[43mprompt\u001b[49m\u001b[43m)\u001b[49m\u001b[43m,\u001b[49m\n\u001b[0;32m   1264\u001b[0m \u001b[43m    \u001b[49m\u001b[38;5;28;43mself\u001b[39;49m\u001b[38;5;241;43m.\u001b[39;49m\u001b[43m_parent_ident\u001b[49m\u001b[43m[\u001b[49m\u001b[38;5;124;43m\"\u001b[39;49m\u001b[38;5;124;43mshell\u001b[39;49m\u001b[38;5;124;43m\"\u001b[39;49m\u001b[43m]\u001b[49m\u001b[43m,\u001b[49m\n\u001b[0;32m   1265\u001b[0m \u001b[43m    \u001b[49m\u001b[38;5;28;43mself\u001b[39;49m\u001b[38;5;241;43m.\u001b[39;49m\u001b[43mget_parent\u001b[49m\u001b[43m(\u001b[49m\u001b[38;5;124;43m\"\u001b[39;49m\u001b[38;5;124;43mshell\u001b[39;49m\u001b[38;5;124;43m\"\u001b[39;49m\u001b[43m)\u001b[49m\u001b[43m,\u001b[49m\n\u001b[0;32m   1266\u001b[0m \u001b[43m    \u001b[49m\u001b[43mpassword\u001b[49m\u001b[38;5;241;43m=\u001b[39;49m\u001b[38;5;28;43;01mFalse\u001b[39;49;00m\u001b[43m,\u001b[49m\n\u001b[0;32m   1267\u001b[0m \u001b[43m\u001b[49m\u001b[43m)\u001b[49m\n",
      "File \u001b[1;32m~\\AppData\\Roaming\\Python\\Python312\\site-packages\\ipykernel\\kernelbase.py:1305\u001b[0m, in \u001b[0;36mKernel._input_request\u001b[1;34m(self, prompt, ident, parent, password)\u001b[0m\n\u001b[0;32m   1302\u001b[0m \u001b[38;5;28;01mexcept\u001b[39;00m \u001b[38;5;167;01mKeyboardInterrupt\u001b[39;00m:\n\u001b[0;32m   1303\u001b[0m     \u001b[38;5;66;03m# re-raise KeyboardInterrupt, to truncate traceback\u001b[39;00m\n\u001b[0;32m   1304\u001b[0m     msg \u001b[38;5;241m=\u001b[39m \u001b[38;5;124m\"\u001b[39m\u001b[38;5;124mInterrupted by user\u001b[39m\u001b[38;5;124m\"\u001b[39m\n\u001b[1;32m-> 1305\u001b[0m     \u001b[38;5;28;01mraise\u001b[39;00m \u001b[38;5;167;01mKeyboardInterrupt\u001b[39;00m(msg) \u001b[38;5;28;01mfrom\u001b[39;00m \u001b[38;5;28;01mNone\u001b[39;00m\n\u001b[0;32m   1306\u001b[0m \u001b[38;5;28;01mexcept\u001b[39;00m \u001b[38;5;167;01mException\u001b[39;00m:\n\u001b[0;32m   1307\u001b[0m     \u001b[38;5;28mself\u001b[39m\u001b[38;5;241m.\u001b[39mlog\u001b[38;5;241m.\u001b[39mwarning(\u001b[38;5;124m\"\u001b[39m\u001b[38;5;124mInvalid Message:\u001b[39m\u001b[38;5;124m\"\u001b[39m, exc_info\u001b[38;5;241m=\u001b[39m\u001b[38;5;28;01mTrue\u001b[39;00m)\n",
      "\u001b[1;31mKeyboardInterrupt\u001b[0m: Interrupted by user"
     ]
    }
   ],
   "source": [
    "y = int(input(\"what times table would you like?\"))\n",
    "\n",
    "for x in range(1,13):\n",
    "    print(x*y)"
   ]
  },
  {
   "cell_type": "code",
   "execution_count": 39,
   "metadata": {},
   "outputs": [
    {
     "name": "stdout",
     "output_type": "stream",
     "text": [
      "1: hello\n",
      "2: hello\n"
     ]
    }
   ],
   "source": [
    "message = input(\"please write a message\")\n",
    "num_outputs = int(input(\"how many repetitions would you like?\"))\n",
    "\n",
    "for x in range(1, num_outputs + 1):\n",
    "    print(str(x)+\":\", message)"
   ]
  },
  {
   "cell_type": "code",
   "execution_count": 47,
   "metadata": {},
   "outputs": [
    {
     "name": "stdout",
     "output_type": "stream",
     "text": [
      "20\n",
      "40\n"
     ]
    }
   ],
   "source": [
    "x = 10\n",
    "\n",
    "for z in range(2):\n",
    "    x *= 2\n",
    "    print(x)"
   ]
  },
  {
   "cell_type": "code",
   "execution_count": 40,
   "metadata": {},
   "outputs": [
    {
     "name": "stdout",
     "output_type": "stream",
     "text": [
      "number 2 is greater\n"
     ]
    }
   ],
   "source": [
    "num1 = float(input(\"please input number 1\"))\n",
    "num2 = float(input(\"please input number 2\"))\n",
    "\n",
    "if num1 > num2:\n",
    "    print(\"number 1 is greater\")\n",
    "else:\n",
    "    print(\"number 2 is greater\")\n",
    "\n"
   ]
  },
  {
   "cell_type": "code",
   "execution_count": 52,
   "metadata": {},
   "outputs": [
    {
     "name": "stdout",
     "output_type": "stream",
     "text": [
      "you were born in a leap year\n"
     ]
    }
   ],
   "source": [
    "year_born = int(input(\"what year were you born?\"))\n",
    "\n",
    "if (year_born) %4 == 0:\n",
    "    if year_born %100==0 and not year_born %400 ==0:\n",
    "        print(\"you were not born in a leap year as every 100 years are skipped\")\n",
    "    else:\n",
    "        print(\"you were born in a leap year\")\n",
    "else:\n",
    "    print(\"you were not born in a leap year\")"
   ]
  },
  {
   "cell_type": "code",
   "execution_count": 54,
   "metadata": {},
   "outputs": [
    {
     "name": "stdout",
     "output_type": "stream",
     "text": [
      "you are eligible for discount the price is 5\n"
     ]
    }
   ],
   "source": [
    "price = 5\n",
    "swim_card = price/2\n",
    "\n",
    "cust_age = int(input(\"How old are you?\"))\n",
    "\n",
    "if cust_age >=65 or cust_age <= 20:\n",
    "    print(\"you are eligible for discount\", \"the price is\", str(price))\n",
    "else:\n",
    "    print(\"the price is\", str(swim_card))\n",
    "\n"
   ]
  },
  {
   "cell_type": "code",
   "execution_count": 55,
   "metadata": {},
   "outputs": [
    {
     "name": "stdout",
     "output_type": "stream",
     "text": [
      "7\n"
     ]
    }
   ],
   "source": [
    "total = 0 \n",
    "\n",
    "while True:\n",
    "    number = int(input(\"please enter a positive number or type 0 to stop\"))\n",
    "    if number == 0:\n",
    "        break\n",
    "    else: \n",
    "        total += number \n",
    "print(total)\n"
   ]
  },
  {
   "cell_type": "code",
   "execution_count": null,
   "metadata": {},
   "outputs": [],
   "source": [
    "## IGNORE THIS\n",
    "import random\n",
    "\n",
    "repeater = True\n",
    "while repeater:\n",
    "    # choice variable to store the user decision\n",
    "    choice = input(\"would you like to role the die?\")\n",
    "    \n",
    "    #if the user types \"yes\" then print a random die roll\n",
    "    if choice.lower() == \"yes\":\n",
    "        dice_outcome = random.randint(1,6)\n",
    "        print(dice_outcome)\n",
    "        \n",
    "\n",
    "        ## Trying to make the repeater work to roll again\n",
    "        while True:\n",
    "            choice_check = input(\"would you like to roll again?\")\n",
    "            if choice_check.lower() == \"yes\":  \n",
    "                dice_outcome = random.randint(1,6)\n",
    "                print(dice_outcome)\n",
    "            elif choice_check.lower() == \"no\":\n",
    "                repeater = False\n",
    "                break\n",
    "            else:\n",
    "                print(\"You have not entered correctly.\")\n",
    "                repeater = False\n",
    "                break\n",
    "    \n",
    "    #if type \"no\"\n",
    "    elif choice.lower() == \"no\":\n",
    "            repeater = False\n",
    "    \n",
    "    #if type something else\n",
    "    else: \n",
    "        clarify = input(\"Would you like to roll the die? Please choose ONLY 'yes' or 'no'.\")\n",
    "        if clarify.lower() == \"no\":\n",
    "            repeater = False\n",
    "        elif clarify.lower() != \"yes\":\n",
    "            print(\"You have not entered correctly\")\n",
    "            repeater = False\n",
    "        else:\n",
    "            dice_outcome = random.randint(1,6)\n",
    "            print(dice_outcome)\n",
    "            while True:\n",
    "                choice_check = input(\"would you like to roll again?\")\n",
    "                if choice_check.lower() == \"yes\":  \n",
    "                    dice_outcome = random.randint(1,6)\n",
    "                    print(dice_outcome)\n",
    "                elif choice_check.lower() == \"no\":\n",
    "                    repeater = False\n",
    "                    break\n",
    "                else:\n",
    "                    print(\"You have not entered correctly.\")\n",
    "                    repeater = False\n",
    "                    break"
   ]
  }
 ],
 "metadata": {
  "kernelspec": {
   "display_name": "Python 3",
   "language": "python",
   "name": "python3"
  },
  "language_info": {
   "codemirror_mode": {
    "name": "ipython",
    "version": 3
   },
   "file_extension": ".py",
   "mimetype": "text/x-python",
   "name": "python",
   "nbconvert_exporter": "python",
   "pygments_lexer": "ipython3",
   "version": "3.12.1"
  }
 },
 "nbformat": 4,
 "nbformat_minor": 2
}
