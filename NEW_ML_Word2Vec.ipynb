{
  "cells": [
    {
      "cell_type": "code",
      "execution_count": 1,
      "metadata": {
        "id": "kIbI14WkSOLW"
      },
      "outputs": [],
      "source": [
        "import spacy\n",
        "import numpy as np\n",
        "import pandas as pd\n",
        "import matplotlib.pyplot as plt\n",
        "from sklearn.linear_model import LogisticRegression\n",
        "from sklearn.svm import SVC\n",
        "from sklearn.ensemble import RandomForestClassifier\n",
        "from sklearn.model_selection import train_test_split\n",
        "from sklearn.metrics import classification_report\n",
        "from sklearn.metrics import accuracy_score as acc\n",
        "from sklearn.preprocessing import MinMaxScaler, LabelEncoder"
      ]
    },
    {
      "cell_type": "code",
      "execution_count": 2,
      "metadata": {
        "id": "Cwr9WIz5SOLX"
      },
      "outputs": [],
      "source": [
        "load_df = pd.read_csv(\"amazon_pillows.csv\")"
      ]
    },
    {
      "cell_type": "code",
      "execution_count": 3,
      "metadata": {
        "colab": {
          "base_uri": "https://localhost:8080/",
          "height": 602
        },
        "id": "RHRMfo4kSOLX",
        "outputId": "4a822572-eab4-48c3-bed9-103b395e4c00"
      },
      "outputs": [
        {
          "data": {
            "text/html": [
              "<div>\n",
              "<style scoped>\n",
              "    .dataframe tbody tr th:only-of-type {\n",
              "        vertical-align: middle;\n",
              "    }\n",
              "\n",
              "    .dataframe tbody tr th {\n",
              "        vertical-align: top;\n",
              "    }\n",
              "\n",
              "    .dataframe thead th {\n",
              "        text-align: right;\n",
              "    }\n",
              "</style>\n",
              "<table border=\"1\" class=\"dataframe\">\n",
              "  <thead>\n",
              "    <tr style=\"text-align: right;\">\n",
              "      <th></th>\n",
              "      <th>country</th>\n",
              "      <th>countryCode</th>\n",
              "      <th>date</th>\n",
              "      <th>filterByKeyword</th>\n",
              "      <th>filterByRating</th>\n",
              "      <th>isVerified</th>\n",
              "      <th>position</th>\n",
              "      <th>product/listPrice</th>\n",
              "      <th>product/price</th>\n",
              "      <th>productAsin</th>\n",
              "      <th>...</th>\n",
              "      <th>reviewImages/0</th>\n",
              "      <th>reviewImages/1</th>\n",
              "      <th>reviewImages/2</th>\n",
              "      <th>reviewReaction</th>\n",
              "      <th>reviewTitle</th>\n",
              "      <th>reviewUrl</th>\n",
              "      <th>reviewedIn</th>\n",
              "      <th>totalCategoryRatings</th>\n",
              "      <th>totalCategoryReviews</th>\n",
              "      <th>variant</th>\n",
              "    </tr>\n",
              "  </thead>\n",
              "  <tbody>\n",
              "    <tr>\n",
              "      <th>0</th>\n",
              "      <td>United Kingdom</td>\n",
              "      <td>NaN</td>\n",
              "      <td>2024-03-06</td>\n",
              "      <td>NaN</td>\n",
              "      <td>threeStar</td>\n",
              "      <td>True</td>\n",
              "      <td>1</td>\n",
              "      <td>NaN</td>\n",
              "      <td>NaN</td>\n",
              "      <td>B00IMFWKGW</td>\n",
              "      <td>...</td>\n",
              "      <td>NaN</td>\n",
              "      <td>NaN</td>\n",
              "      <td>NaN</td>\n",
              "      <td>NaN</td>\n",
              "      <td>Disappointed</td>\n",
              "      <td>https://www.amazon.co.uk/gp/customer-reviews/R...</td>\n",
              "      <td>Reviewed in the United Kingdom on 6 March 2024</td>\n",
              "      <td>3743</td>\n",
              "      <td>405</td>\n",
              "      <td>Style Name: Super SupportSize Name: 2 Pack</td>\n",
              "    </tr>\n",
              "    <tr>\n",
              "      <th>1</th>\n",
              "      <td>United Kingdom</td>\n",
              "      <td>NaN</td>\n",
              "      <td>2024-03-05</td>\n",
              "      <td>NaN</td>\n",
              "      <td>threeStar</td>\n",
              "      <td>True</td>\n",
              "      <td>2</td>\n",
              "      <td>NaN</td>\n",
              "      <td>NaN</td>\n",
              "      <td>B00IMFWKGW</td>\n",
              "      <td>...</td>\n",
              "      <td>NaN</td>\n",
              "      <td>NaN</td>\n",
              "      <td>NaN</td>\n",
              "      <td>NaN</td>\n",
              "      <td>Nothing revoluntionary</td>\n",
              "      <td>https://www.amazon.co.uk/gp/customer-reviews/R...</td>\n",
              "      <td>Reviewed in the United Kingdom on 5 March 2024</td>\n",
              "      <td>3743</td>\n",
              "      <td>405</td>\n",
              "      <td>Style Name: Super SupportSize Name: 2 Pack</td>\n",
              "    </tr>\n",
              "    <tr>\n",
              "      <th>2</th>\n",
              "      <td>United Kingdom</td>\n",
              "      <td>NaN</td>\n",
              "      <td>2024-03-03</td>\n",
              "      <td>NaN</td>\n",
              "      <td>threeStar</td>\n",
              "      <td>True</td>\n",
              "      <td>3</td>\n",
              "      <td>NaN</td>\n",
              "      <td>NaN</td>\n",
              "      <td>B00IMFWKGW</td>\n",
              "      <td>...</td>\n",
              "      <td>NaN</td>\n",
              "      <td>NaN</td>\n",
              "      <td>NaN</td>\n",
              "      <td>NaN</td>\n",
              "      <td>Good firm support...</td>\n",
              "      <td>https://www.amazon.co.uk/gp/customer-reviews/R...</td>\n",
              "      <td>Reviewed in the United Kingdom on 3 March 2024</td>\n",
              "      <td>3743</td>\n",
              "      <td>405</td>\n",
              "      <td>Style Name: Super SupportSize Name: 2 Pack</td>\n",
              "    </tr>\n",
              "    <tr>\n",
              "      <th>3</th>\n",
              "      <td>United Kingdom</td>\n",
              "      <td>NaN</td>\n",
              "      <td>2024-03-03</td>\n",
              "      <td>NaN</td>\n",
              "      <td>threeStar</td>\n",
              "      <td>True</td>\n",
              "      <td>4</td>\n",
              "      <td>NaN</td>\n",
              "      <td>NaN</td>\n",
              "      <td>B00IMFWKGW</td>\n",
              "      <td>...</td>\n",
              "      <td>NaN</td>\n",
              "      <td>NaN</td>\n",
              "      <td>NaN</td>\n",
              "      <td>NaN</td>\n",
              "      <td>Slumbetdown pillows</td>\n",
              "      <td>https://www.amazon.co.uk/gp/customer-reviews/R...</td>\n",
              "      <td>Reviewed in the United Kingdom on 3 March 2024</td>\n",
              "      <td>3743</td>\n",
              "      <td>405</td>\n",
              "      <td>Style Name: Super SupportSize Name: 2 Pack</td>\n",
              "    </tr>\n",
              "    <tr>\n",
              "      <th>4</th>\n",
              "      <td>United Kingdom</td>\n",
              "      <td>NaN</td>\n",
              "      <td>2024-03-02</td>\n",
              "      <td>NaN</td>\n",
              "      <td>threeStar</td>\n",
              "      <td>True</td>\n",
              "      <td>5</td>\n",
              "      <td>NaN</td>\n",
              "      <td>NaN</td>\n",
              "      <td>B00IMFWKGW</td>\n",
              "      <td>...</td>\n",
              "      <td>NaN</td>\n",
              "      <td>NaN</td>\n",
              "      <td>NaN</td>\n",
              "      <td>NaN</td>\n",
              "      <td>Bouncy pillow</td>\n",
              "      <td>https://www.amazon.co.uk/gp/customer-reviews/R...</td>\n",
              "      <td>Reviewed in the United Kingdom on 2 March 2024</td>\n",
              "      <td>3743</td>\n",
              "      <td>405</td>\n",
              "      <td>Style Name: Super Support - Climate ControlSiz...</td>\n",
              "    </tr>\n",
              "  </tbody>\n",
              "</table>\n",
              "<p>5 rows × 24 columns</p>\n",
              "</div>"
            ],
            "text/plain": [
              "          country  countryCode        date  filterByKeyword filterByRating  \\\n",
              "0  United Kingdom          NaN  2024-03-06              NaN      threeStar   \n",
              "1  United Kingdom          NaN  2024-03-05              NaN      threeStar   \n",
              "2  United Kingdom          NaN  2024-03-03              NaN      threeStar   \n",
              "3  United Kingdom          NaN  2024-03-03              NaN      threeStar   \n",
              "4  United Kingdom          NaN  2024-03-02              NaN      threeStar   \n",
              "\n",
              "   isVerified  position  product/listPrice  product/price productAsin  ...  \\\n",
              "0        True         1                NaN            NaN  B00IMFWKGW  ...   \n",
              "1        True         2                NaN            NaN  B00IMFWKGW  ...   \n",
              "2        True         3                NaN            NaN  B00IMFWKGW  ...   \n",
              "3        True         4                NaN            NaN  B00IMFWKGW  ...   \n",
              "4        True         5                NaN            NaN  B00IMFWKGW  ...   \n",
              "\n",
              "   reviewImages/0 reviewImages/1 reviewImages/2 reviewReaction  \\\n",
              "0             NaN            NaN            NaN            NaN   \n",
              "1             NaN            NaN            NaN            NaN   \n",
              "2             NaN            NaN            NaN            NaN   \n",
              "3             NaN            NaN            NaN            NaN   \n",
              "4             NaN            NaN            NaN            NaN   \n",
              "\n",
              "              reviewTitle                                          reviewUrl  \\\n",
              "0            Disappointed  https://www.amazon.co.uk/gp/customer-reviews/R...   \n",
              "1  Nothing revoluntionary  https://www.amazon.co.uk/gp/customer-reviews/R...   \n",
              "2    Good firm support...  https://www.amazon.co.uk/gp/customer-reviews/R...   \n",
              "3     Slumbetdown pillows  https://www.amazon.co.uk/gp/customer-reviews/R...   \n",
              "4           Bouncy pillow  https://www.amazon.co.uk/gp/customer-reviews/R...   \n",
              "\n",
              "                                       reviewedIn totalCategoryRatings  \\\n",
              "0  Reviewed in the United Kingdom on 6 March 2024                 3743   \n",
              "1  Reviewed in the United Kingdom on 5 March 2024                 3743   \n",
              "2  Reviewed in the United Kingdom on 3 March 2024                 3743   \n",
              "3  Reviewed in the United Kingdom on 3 March 2024                 3743   \n",
              "4  Reviewed in the United Kingdom on 2 March 2024                 3743   \n",
              "\n",
              "  totalCategoryReviews                                            variant  \n",
              "0                  405         Style Name: Super SupportSize Name: 2 Pack  \n",
              "1                  405         Style Name: Super SupportSize Name: 2 Pack  \n",
              "2                  405         Style Name: Super SupportSize Name: 2 Pack  \n",
              "3                  405         Style Name: Super SupportSize Name: 2 Pack  \n",
              "4                  405  Style Name: Super Support - Climate ControlSiz...  \n",
              "\n",
              "[5 rows x 24 columns]"
            ]
          },
          "execution_count": 3,
          "metadata": {},
          "output_type": "execute_result"
        }
      ],
      "source": [
        "load_df.head()"
      ]
    },
    {
      "cell_type": "code",
      "execution_count": 4,
      "metadata": {
        "colab": {
          "base_uri": "https://localhost:8080/"
        },
        "id": "BFkDmMkVSOLY",
        "outputId": "c9612d17-33d8-4815-c05a-824fb19f433b"
      },
      "outputs": [
        {
          "name": "stdout",
          "output_type": "stream",
          "text": [
            "<class 'pandas.core.frame.DataFrame'>\n",
            "RangeIndex: 500 entries, 0 to 499\n",
            "Data columns (total 24 columns):\n",
            " #   Column                Non-Null Count  Dtype  \n",
            "---  ------                --------------  -----  \n",
            " 0   country               500 non-null    object \n",
            " 1   countryCode           0 non-null      float64\n",
            " 2   date                  500 non-null    object \n",
            " 3   filterByKeyword       0 non-null      float64\n",
            " 4   filterByRating        500 non-null    object \n",
            " 5   isVerified            500 non-null    bool   \n",
            " 6   position              500 non-null    int64  \n",
            " 7   product/listPrice     0 non-null      float64\n",
            " 8   product/price         0 non-null      float64\n",
            " 9   productAsin           500 non-null    object \n",
            " 10  ratingScore           500 non-null    int64  \n",
            " 11  reviewCategoryUrl     500 non-null    object \n",
            " 12  reviewDescription     499 non-null    object \n",
            " 13  reviewId              500 non-null    object \n",
            " 14  reviewImages/0        20 non-null     object \n",
            " 15  reviewImages/1        6 non-null      object \n",
            " 16  reviewImages/2        1 non-null      object \n",
            " 17  reviewReaction        128 non-null    object \n",
            " 18  reviewTitle           500 non-null    object \n",
            " 19  reviewUrl             500 non-null    object \n",
            " 20  reviewedIn            500 non-null    object \n",
            " 21  totalCategoryRatings  500 non-null    int64  \n",
            " 22  totalCategoryReviews  500 non-null    int64  \n",
            " 23  variant               500 non-null    object \n",
            "dtypes: bool(1), float64(4), int64(4), object(15)\n",
            "memory usage: 90.5+ KB\n"
          ]
        }
      ],
      "source": [
        "load_df.info()"
      ]
    },
    {
      "cell_type": "code",
      "execution_count": 5,
      "metadata": {
        "id": "rXikVXPPSOLY"
      },
      "outputs": [],
      "source": [
        "df = load_df.iloc[:, [10, 12]]"
      ]
    },
    {
      "cell_type": "code",
      "execution_count": 6,
      "metadata": {
        "colab": {
          "base_uri": "https://localhost:8080/"
        },
        "id": "FS0Mw4KvSOLY",
        "outputId": "fcd769f8-15b0-41e7-cda4-e1610e1f6f30"
      },
      "outputs": [
        {
          "name": "stdout",
          "output_type": "stream",
          "text": [
            "<class 'pandas.core.frame.DataFrame'>\n",
            "RangeIndex: 500 entries, 0 to 499\n",
            "Data columns (total 2 columns):\n",
            " #   Column             Non-Null Count  Dtype \n",
            "---  ------             --------------  ----- \n",
            " 0   ratingScore        500 non-null    int64 \n",
            " 1   reviewDescription  499 non-null    object\n",
            "dtypes: int64(1), object(1)\n",
            "memory usage: 7.9+ KB\n"
          ]
        }
      ],
      "source": [
        "df.info()"
      ]
    },
    {
      "cell_type": "code",
      "execution_count": 7,
      "metadata": {
        "colab": {
          "base_uri": "https://localhost:8080/"
        },
        "id": "IjsATGTISOLY",
        "outputId": "cbc2fc5e-ca56-40c5-9c2f-d51b7780c8a9"
      },
      "outputs": [
        {
          "name": "stderr",
          "output_type": "stream",
          "text": [
            "C:\\Users\\Tony\\AppData\\Local\\Temp\\ipykernel_16904\\645621918.py:1: SettingWithCopyWarning: \n",
            "A value is trying to be set on a copy of a slice from a DataFrame.\n",
            "Try using .loc[row_indexer,col_indexer] = value instead\n",
            "\n",
            "See the caveats in the documentation: https://pandas.pydata.org/pandas-docs/stable/user_guide/indexing.html#returning-a-view-versus-a-copy\n",
            "  df[\"reviewDescription\"] = df[\"reviewDescription\"].convert_dtypes(convert_string=True)\n"
          ]
        }
      ],
      "source": [
        "df[\"reviewDescription\"] = df[\"reviewDescription\"].convert_dtypes(convert_string=True)"
      ]
    },
    {
      "cell_type": "code",
      "execution_count": 8,
      "metadata": {
        "colab": {
          "base_uri": "https://localhost:8080/"
        },
        "id": "0Ps7qfhsSOLY",
        "outputId": "d23f8e12-b757-4c8b-b2a4-1402ef48872e"
      },
      "outputs": [
        {
          "name": "stderr",
          "output_type": "stream",
          "text": [
            "C:\\Users\\Tony\\AppData\\Local\\Temp\\ipykernel_16904\\430794899.py:2: SettingWithCopyWarning: \n",
            "A value is trying to be set on a copy of a slice from a DataFrame.\n",
            "Try using .loc[row_indexer,col_indexer] = value instead\n",
            "\n",
            "See the caveats in the documentation: https://pandas.pydata.org/pandas-docs/stable/user_guide/indexing.html#returning-a-view-versus-a-copy\n",
            "  df[\"ratingSentiment\"] = scaler.fit_transform(df[[\"ratingScore\"]])\n"
          ]
        }
      ],
      "source": [
        "scaler = MinMaxScaler(feature_range=(-1,1))\n",
        "df[\"ratingSentiment\"] = scaler.fit_transform(df[[\"ratingScore\"]])"
      ]
    },
    {
      "cell_type": "code",
      "execution_count": 9,
      "metadata": {
        "colab": {
          "base_uri": "https://localhost:8080/"
        },
        "id": "6-IlafmZSOLY",
        "outputId": "5ad61935-8630-4717-b202-d433676e4cce"
      },
      "outputs": [
        {
          "name": "stderr",
          "output_type": "stream",
          "text": [
            "C:\\Users\\Tony\\AppData\\Local\\Temp\\ipykernel_16904\\1579879186.py:8: SettingWithCopyWarning: \n",
            "A value is trying to be set on a copy of a slice from a DataFrame.\n",
            "Try using .loc[row_indexer,col_indexer] = value instead\n",
            "\n",
            "See the caveats in the documentation: https://pandas.pydata.org/pandas-docs/stable/user_guide/indexing.html#returning-a-view-versus-a-copy\n",
            "  df[\"ratingClassified\"] = df[\"ratingSentiment\"].apply(classify_sentiment)\n"
          ]
        }
      ],
      "source": [
        "def classify_sentiment(value):\n",
        "    if value > 0:\n",
        "        return 'positive'\n",
        "    elif value == 0:\n",
        "        return 'neutral'\n",
        "    else:\n",
        "        return 'negative'\n",
        "df[\"ratingClassified\"] = df[\"ratingSentiment\"].apply(classify_sentiment)"
      ]
    },
    {
      "cell_type": "code",
      "execution_count": 10,
      "metadata": {
        "colab": {
          "base_uri": "https://localhost:8080/"
        },
        "id": "aRiAO576SOLY",
        "outputId": "6837a699-20b5-4a97-ec3d-1ee1a830a4e9"
      },
      "outputs": [
        {
          "name": "stderr",
          "output_type": "stream",
          "text": [
            "C:\\Users\\Tony\\AppData\\Local\\Temp\\ipykernel_16904\\1346580596.py:1: SettingWithCopyWarning: \n",
            "A value is trying to be set on a copy of a slice from a DataFrame\n",
            "\n",
            "See the caveats in the documentation: https://pandas.pydata.org/pandas-docs/stable/user_guide/indexing.html#returning-a-view-versus-a-copy\n",
            "  df.dropna(inplace=True)\n",
            "C:\\Users\\Tony\\AppData\\Local\\Temp\\ipykernel_16904\\1346580596.py:3: SettingWithCopyWarning: \n",
            "A value is trying to be set on a copy of a slice from a DataFrame\n",
            "\n",
            "See the caveats in the documentation: https://pandas.pydata.org/pandas-docs/stable/user_guide/indexing.html#returning-a-view-versus-a-copy\n",
            "  df.drop(columns = [\"index\"], inplace=True)\n"
          ]
        }
      ],
      "source": [
        "df.dropna(inplace=True)\n",
        "df.reset_index(inplace=True)\n",
        "df.drop(columns = [\"index\"], inplace=True)"
      ]
    },
    {
      "cell_type": "code",
      "execution_count": 11,
      "metadata": {
        "id": "tmvibxdzSOLZ"
      },
      "outputs": [],
      "source": [
        "import re\n",
        "from nltk.stem import WordNetLemmatizer"
      ]
    },
    {
      "cell_type": "code",
      "execution_count": 12,
      "metadata": {
        "id": "aREhDG9tSOLZ"
      },
      "outputs": [],
      "source": [
        "def preprocess(textdata):\n",
        "    processedText = []\n",
        "\n",
        "    # Create Lemmatizer and Stemmer.\n",
        "    wordLemm = WordNetLemmatizer()\n",
        "\n",
        "    # Defining regex patterns.\n",
        "    urlPattern        = r\"((http://)[^ ]*|(https://)[^ ]*|( www\\.)[^ ]*)\"\n",
        "    alphaPattern      = \"[^a-zA-Z0-9]\"\n",
        "    sequencePattern   = r\"(.)\\1\\1+\"\n",
        "    seqReplacePattern = r\"\\1\\1\"\n",
        "\n",
        "    for review in textdata[\"reviewDescription\"]:\n",
        "        review = review.lower()\n",
        "\n",
        "        # Replace all URls with 'URL'\n",
        "        review = re.sub(urlPattern,' URL',review)\n",
        "        # Replace all non alphabets.\n",
        "        review = re.sub(alphaPattern, \" \", review)\n",
        "        # Replace 3 or more consecutive letters by 2 letter.\n",
        "        review = re.sub(sequencePattern, seqReplacePattern, review)\n",
        "\n",
        "        reviews = ''\n",
        "        for word in review.split():\n",
        "            # Checking if the word is a stopword.\n",
        "            #if word not in stopwordlist:\n",
        "            if len(word)>1:\n",
        "                # Lemmatizing the word.\n",
        "                word = wordLemm.lemmatize(word)\n",
        "                reviews += (word+' ')\n",
        "\n",
        "        processedText.append(reviews)\n",
        "\n",
        "    return processedText"
      ]
    },
    {
      "cell_type": "code",
      "execution_count": 13,
      "metadata": {
        "colab": {
          "base_uri": "https://localhost:8080/"
        },
        "id": "jt9i2dtbSx8f",
        "outputId": "e6288cb0-4c50-4135-cdd9-3be184a9b01d"
      },
      "outputs": [
        {
          "name": "stderr",
          "output_type": "stream",
          "text": [
            "[nltk_data] Downloading package wordnet to\n",
            "[nltk_data]     C:\\Users\\Tony\\AppData\\Roaming\\nltk_data...\n",
            "[nltk_data]   Package wordnet is already up-to-date!\n"
          ]
        },
        {
          "data": {
            "text/plain": [
              "True"
            ]
          },
          "execution_count": 13,
          "metadata": {},
          "output_type": "execute_result"
        }
      ],
      "source": [
        "import nltk\n",
        "nltk.download('wordnet')"
      ]
    },
    {
      "cell_type": "code",
      "execution_count": 14,
      "metadata": {
        "id": "8JgqARDZSOLZ"
      },
      "outputs": [],
      "source": [
        "cleaned_df = preprocess(df)\n",
        "cleaned_df = pd.DataFrame(cleaned_df, columns = [\"cleanDescription\"]).reset_index()"
      ]
    },
    {
      "cell_type": "code",
      "execution_count": 15,
      "metadata": {
        "colab": {
          "base_uri": "https://localhost:8080/"
        },
        "id": "kU3IYsX2SOLZ",
        "outputId": "c40490a0-4e1c-46e7-b1ae-a298c2886c18"
      },
      "outputs": [
        {
          "name": "stderr",
          "output_type": "stream",
          "text": [
            "C:\\Users\\Tony\\AppData\\Local\\Temp\\ipykernel_16904\\1908554006.py:1: SettingWithCopyWarning: \n",
            "A value is trying to be set on a copy of a slice from a DataFrame.\n",
            "Try using .loc[row_indexer,col_indexer] = value instead\n",
            "\n",
            "See the caveats in the documentation: https://pandas.pydata.org/pandas-docs/stable/user_guide/indexing.html#returning-a-view-versus-a-copy\n",
            "  df[\"cleanDesc\"] = cleaned_df[\"cleanDescription\"]\n"
          ]
        }
      ],
      "source": [
        "df[\"cleanDesc\"] = cleaned_df[\"cleanDescription\"]"
      ]
    },
    {
      "cell_type": "code",
      "execution_count": 16,
      "metadata": {
        "colab": {
          "base_uri": "https://localhost:8080/",
          "height": 206
        },
        "id": "DCjtjVA-SOLZ",
        "outputId": "4385f690-8fcc-4fdf-93c8-21e7d9d441d1"
      },
      "outputs": [
        {
          "data": {
            "text/html": [
              "<div>\n",
              "<style scoped>\n",
              "    .dataframe tbody tr th:only-of-type {\n",
              "        vertical-align: middle;\n",
              "    }\n",
              "\n",
              "    .dataframe tbody tr th {\n",
              "        vertical-align: top;\n",
              "    }\n",
              "\n",
              "    .dataframe thead th {\n",
              "        text-align: right;\n",
              "    }\n",
              "</style>\n",
              "<table border=\"1\" class=\"dataframe\">\n",
              "  <thead>\n",
              "    <tr style=\"text-align: right;\">\n",
              "      <th></th>\n",
              "      <th>ratingScore</th>\n",
              "      <th>reviewDescription</th>\n",
              "      <th>ratingSentiment</th>\n",
              "      <th>ratingClassified</th>\n",
              "      <th>cleanDesc</th>\n",
              "    </tr>\n",
              "  </thead>\n",
              "  <tbody>\n",
              "    <tr>\n",
              "      <th>494</th>\n",
              "      <td>2</td>\n",
              "      <td>I bought these pillows as a side sleeper but t...</td>\n",
              "      <td>-0.5</td>\n",
              "      <td>negative</td>\n",
              "      <td>bought these pillow a side sleeper but they ar...</td>\n",
              "    </tr>\n",
              "    <tr>\n",
              "      <th>495</th>\n",
              "      <td>2</td>\n",
              "      <td>Its looks comfort  though.</td>\n",
              "      <td>-0.5</td>\n",
              "      <td>negative</td>\n",
              "      <td>it look comfort though</td>\n",
              "    </tr>\n",
              "    <tr>\n",
              "      <th>496</th>\n",
              "      <td>2</td>\n",
              "      <td>Advertised as firm but when you lay your head ...</td>\n",
              "      <td>-0.5</td>\n",
              "      <td>negative</td>\n",
              "      <td>advertised a firm but when you lay your head o...</td>\n",
              "    </tr>\n",
              "    <tr>\n",
              "      <th>497</th>\n",
              "      <td>2</td>\n",
              "      <td>Really disappointed with these pillows,went fl...</td>\n",
              "      <td>-0.5</td>\n",
              "      <td>negative</td>\n",
              "      <td>really disappointed with these pillow went fla...</td>\n",
              "    </tr>\n",
              "    <tr>\n",
              "      <th>498</th>\n",
              "      <td>2</td>\n",
              "      <td>I like firm pillows for great head neck suppor...</td>\n",
              "      <td>-0.5</td>\n",
              "      <td>negative</td>\n",
              "      <td>like firm pillow for great head neck support p...</td>\n",
              "    </tr>\n",
              "  </tbody>\n",
              "</table>\n",
              "</div>"
            ],
            "text/plain": [
              "     ratingScore                                  reviewDescription  \\\n",
              "494            2  I bought these pillows as a side sleeper but t...   \n",
              "495            2                         Its looks comfort  though.   \n",
              "496            2  Advertised as firm but when you lay your head ...   \n",
              "497            2  Really disappointed with these pillows,went fl...   \n",
              "498            2  I like firm pillows for great head neck suppor...   \n",
              "\n",
              "     ratingSentiment ratingClassified  \\\n",
              "494             -0.5         negative   \n",
              "495             -0.5         negative   \n",
              "496             -0.5         negative   \n",
              "497             -0.5         negative   \n",
              "498             -0.5         negative   \n",
              "\n",
              "                                             cleanDesc  \n",
              "494  bought these pillow a side sleeper but they ar...  \n",
              "495                            it look comfort though   \n",
              "496  advertised a firm but when you lay your head o...  \n",
              "497  really disappointed with these pillow went fla...  \n",
              "498  like firm pillow for great head neck support p...  "
            ]
          },
          "execution_count": 16,
          "metadata": {},
          "output_type": "execute_result"
        }
      ],
      "source": [
        "df.tail()"
      ]
    },
    {
      "cell_type": "markdown",
      "metadata": {
        "id": "ZOnTBlXFSOLa"
      },
      "source": [
        "## Word2Vec Conversion"
      ]
    },
    {
      "cell_type": "code",
      "execution_count": 17,
      "metadata": {
        "id": "yXhXWX6DSOLa"
      },
      "outputs": [],
      "source": [
        "import en_core_web_lg\n",
        "import spacy\n",
        "nlp = en_core_web_lg.load()"
      ]
    },
    {
      "cell_type": "code",
      "execution_count": 18,
      "metadata": {
        "id": "VBtKNDPESOLb"
      },
      "outputs": [],
      "source": [
        "def get_vec(x):\n",
        "    doc = nlp(x)\n",
        "    vec = doc.vector\n",
        "    return vec"
      ]
    },
    {
      "cell_type": "code",
      "execution_count": 19,
      "metadata": {
        "colab": {
          "base_uri": "https://localhost:8080/"
        },
        "id": "nqGKcDBQSOLb",
        "outputId": "a4e191ab-b3a8-4513-99ee-7cf7ffe6ba11"
      },
      "outputs": [
        {
          "name": "stderr",
          "output_type": "stream",
          "text": [
            "C:\\Users\\Tony\\AppData\\Local\\Temp\\ipykernel_16904\\1903158071.py:1: SettingWithCopyWarning: \n",
            "A value is trying to be set on a copy of a slice from a DataFrame.\n",
            "Try using .loc[row_indexer,col_indexer] = value instead\n",
            "\n",
            "See the caveats in the documentation: https://pandas.pydata.org/pandas-docs/stable/user_guide/indexing.html#returning-a-view-versus-a-copy\n",
            "  df[\"vec\"] = df[\"cleanDesc\"].apply( lambda x: get_vec(x))\n"
          ]
        }
      ],
      "source": [
        "df[\"vec\"] = df[\"cleanDesc\"].apply( lambda x: get_vec(x))"
      ]
    },
    {
      "cell_type": "code",
      "execution_count": 20,
      "metadata": {
        "colab": {
          "base_uri": "https://localhost:8080/",
          "height": 293
        },
        "id": "7kKanW15SOLb",
        "outputId": "f8cde6fd-dc2b-4684-b08b-23d6c98c9d3f"
      },
      "outputs": [
        {
          "data": {
            "text/html": [
              "<div>\n",
              "<style scoped>\n",
              "    .dataframe tbody tr th:only-of-type {\n",
              "        vertical-align: middle;\n",
              "    }\n",
              "\n",
              "    .dataframe tbody tr th {\n",
              "        vertical-align: top;\n",
              "    }\n",
              "\n",
              "    .dataframe thead th {\n",
              "        text-align: right;\n",
              "    }\n",
              "</style>\n",
              "<table border=\"1\" class=\"dataframe\">\n",
              "  <thead>\n",
              "    <tr style=\"text-align: right;\">\n",
              "      <th></th>\n",
              "      <th>ratingScore</th>\n",
              "      <th>reviewDescription</th>\n",
              "      <th>ratingSentiment</th>\n",
              "      <th>ratingClassified</th>\n",
              "      <th>cleanDesc</th>\n",
              "      <th>vec</th>\n",
              "    </tr>\n",
              "  </thead>\n",
              "  <tbody>\n",
              "    <tr>\n",
              "      <th>0</th>\n",
              "      <td>3</td>\n",
              "      <td>Pillows have arrived and they seem very flat c...</td>\n",
              "      <td>0.0</td>\n",
              "      <td>neutral</td>\n",
              "      <td>pillow have arrived and they seem very flat co...</td>\n",
              "      <td>[-1.4690695, 2.7291524, -3.4343462, -0.1550789...</td>\n",
              "    </tr>\n",
              "    <tr>\n",
              "      <th>1</th>\n",
              "      <td>3</td>\n",
              "      <td>Seemed to suggest they were ever plump, but so...</td>\n",
              "      <td>0.0</td>\n",
              "      <td>neutral</td>\n",
              "      <td>seemed to suggest they were ever plump but soo...</td>\n",
              "      <td>[-1.8024529, 2.1519244, -2.025902, -0.2916843,...</td>\n",
              "    </tr>\n",
              "    <tr>\n",
              "      <th>2</th>\n",
              "      <td>3</td>\n",
              "      <td>Feel good...</td>\n",
              "      <td>0.0</td>\n",
              "      <td>neutral</td>\n",
              "      <td>feel good</td>\n",
              "      <td>[0.06918, -0.38524, -3.9240499, -3.42745, 0.59...</td>\n",
              "    </tr>\n",
              "    <tr>\n",
              "      <th>3</th>\n",
              "      <td>3</td>\n",
              "      <td>Expected them to be firm but they are a little...</td>\n",
              "      <td>0.0</td>\n",
              "      <td>neutral</td>\n",
              "      <td>expected them to be firm but they are little t...</td>\n",
              "      <td>[-1.7878836, 3.2223725, -5.2726912, 0.61334175...</td>\n",
              "    </tr>\n",
              "    <tr>\n",
              "      <th>4</th>\n",
              "      <td>3</td>\n",
              "      <td>Push your heads up,isn't really pillowy.Side s...</td>\n",
              "      <td>0.0</td>\n",
              "      <td>neutral</td>\n",
              "      <td>push your head up isn really pillowy side slee...</td>\n",
              "      <td>[-0.6303085, 2.8425322, -4.204991, 1.0299304, ...</td>\n",
              "    </tr>\n",
              "  </tbody>\n",
              "</table>\n",
              "</div>"
            ],
            "text/plain": [
              "   ratingScore                                  reviewDescription  \\\n",
              "0            3  Pillows have arrived and they seem very flat c...   \n",
              "1            3  Seemed to suggest they were ever plump, but so...   \n",
              "2            3                                       Feel good...   \n",
              "3            3  Expected them to be firm but they are a little...   \n",
              "4            3  Push your heads up,isn't really pillowy.Side s...   \n",
              "\n",
              "   ratingSentiment ratingClassified  \\\n",
              "0              0.0          neutral   \n",
              "1              0.0          neutral   \n",
              "2              0.0          neutral   \n",
              "3              0.0          neutral   \n",
              "4              0.0          neutral   \n",
              "\n",
              "                                           cleanDesc  \\\n",
              "0  pillow have arrived and they seem very flat co...   \n",
              "1  seemed to suggest they were ever plump but soo...   \n",
              "2                                         feel good    \n",
              "3  expected them to be firm but they are little t...   \n",
              "4  push your head up isn really pillowy side slee...   \n",
              "\n",
              "                                                 vec  \n",
              "0  [-1.4690695, 2.7291524, -3.4343462, -0.1550789...  \n",
              "1  [-1.8024529, 2.1519244, -2.025902, -0.2916843,...  \n",
              "2  [0.06918, -0.38524, -3.9240499, -3.42745, 0.59...  \n",
              "3  [-1.7878836, 3.2223725, -5.2726912, 0.61334175...  \n",
              "4  [-0.6303085, 2.8425322, -4.204991, 1.0299304, ...  "
            ]
          },
          "execution_count": 20,
          "metadata": {},
          "output_type": "execute_result"
        }
      ],
      "source": [
        "df.head()"
      ]
    },
    {
      "cell_type": "code",
      "execution_count": 21,
      "metadata": {
        "id": "a96rA-FHSOLb"
      },
      "outputs": [],
      "source": [
        "X = df[\"vec\"].to_numpy()\n",
        "X = X.reshape(-1,1)"
      ]
    },
    {
      "cell_type": "code",
      "execution_count": 22,
      "metadata": {
        "id": "DDWaiIsTSOLb"
      },
      "outputs": [],
      "source": [
        "X = np.concatenate(np.concatenate(X, axis = 0), axis = 0).reshape(-1,300)"
      ]
    },
    {
      "cell_type": "code",
      "execution_count": 23,
      "metadata": {
        "colab": {
          "base_uri": "https://localhost:8080/"
        },
        "id": "eN-lqBI7SOLb",
        "outputId": "6e42202d-4b9e-4731-b029-cbe6f505186e"
      },
      "outputs": [
        {
          "data": {
            "text/plain": [
              "(499, 300)"
            ]
          },
          "execution_count": 23,
          "metadata": {},
          "output_type": "execute_result"
        }
      ],
      "source": [
        "X.shape"
      ]
    },
    {
      "cell_type": "code",
      "execution_count": 24,
      "metadata": {
        "id": "uQksM0I4SOLb"
      },
      "outputs": [],
      "source": [
        "y = df[\"ratingClassified\"]"
      ]
    },
    {
      "cell_type": "code",
      "execution_count": 25,
      "metadata": {
        "colab": {
          "base_uri": "https://localhost:8080/"
        },
        "id": "xt66WDWySOLb",
        "outputId": "7a3a0aaa-f934-4d7f-a43a-9c8f92351813"
      },
      "outputs": [
        {
          "data": {
            "text/plain": [
              "array([1, 1, 1, 1, 1, 1, 1, 1, 1, 1, 2, 2, 2, 2, 2, 2, 2, 2, 2, 2, 0, 0,\n",
              "       0, 0, 0, 0, 0, 0, 0, 0, 1, 1, 1, 1, 1, 1, 1, 1, 1, 1, 1, 1, 1, 1,\n",
              "       1, 1, 1, 1, 1, 1, 1, 1, 1, 1, 1, 1, 1, 1, 1, 1, 1, 1, 1, 1, 1, 1,\n",
              "       1, 1, 1, 1, 1, 1, 1, 1, 1, 1, 1, 1, 1, 1, 2, 2, 2, 2, 2, 2, 2, 2,\n",
              "       2, 2, 0, 0, 0, 0, 0, 0, 0, 0, 0, 0, 2, 2, 2, 2, 2, 2, 2, 2, 2, 2,\n",
              "       2, 2, 2, 2, 2, 2, 2, 2, 2, 2, 2, 2, 2, 2, 2, 2, 2, 2, 2, 2, 2, 2,\n",
              "       2, 2, 2, 2, 2, 2, 2, 2, 1, 1, 1, 1, 1, 1, 1, 1, 1, 1, 1, 1, 1, 1,\n",
              "       1, 1, 1, 1, 1, 1, 0, 0, 0, 0, 0, 0, 0, 0, 0, 0, 0, 0, 0, 0, 0, 0,\n",
              "       0, 0, 0, 0, 2, 2, 2, 2, 2, 2, 2, 2, 2, 2, 0, 0, 0, 0, 0, 0, 0, 0,\n",
              "       0, 0, 2, 2, 2, 2, 2, 2, 2, 2, 2, 2, 0, 0, 0, 0, 0, 0, 0, 0, 0, 0,\n",
              "       0, 0, 0, 0, 0, 0, 0, 0, 0, 0, 2, 2, 2, 2, 2, 2, 2, 2, 2, 0, 0, 0,\n",
              "       0, 0, 0, 0, 0, 0, 0, 0, 0, 0, 0, 0, 0, 0, 0, 0, 0, 2, 2, 2, 2, 2,\n",
              "       2, 2, 2, 2, 2, 0, 0, 0, 0, 0, 0, 0, 0, 0, 0, 0, 0, 0, 0, 0, 0, 0,\n",
              "       0, 0, 0, 0, 0, 0, 0, 0, 0, 0, 0, 0, 0, 0, 0, 0, 0, 0, 0, 0, 0, 0,\n",
              "       0, 1, 1, 1, 1, 1, 1, 1, 1, 1, 1, 2, 2, 2, 2, 2, 2, 2, 2, 2, 2, 2,\n",
              "       2, 2, 2, 2, 2, 2, 2, 2, 2, 0, 0, 0, 0, 0, 0, 0, 0, 0, 0, 0, 0, 0,\n",
              "       0, 0, 0, 0, 0, 0, 0, 2, 2, 2, 2, 2, 2, 2, 2, 2, 2, 2, 2, 2, 2, 2,\n",
              "       2, 2, 2, 2, 2, 1, 1, 1, 1, 1, 1, 1, 1, 1, 1, 0, 0, 0, 0, 0, 0, 0,\n",
              "       0, 0, 0, 2, 2, 2, 2, 2, 2, 2, 2, 2, 2, 2, 2, 2, 2, 2, 2, 2, 2, 2,\n",
              "       2, 2, 2, 2, 2, 2, 2, 2, 2, 2, 2, 0, 0, 0, 0, 0, 0, 0, 0, 0, 0, 0,\n",
              "       0, 0, 0, 0, 0, 0, 0, 0, 0, 2, 2, 2, 2, 2, 2, 2, 2, 2, 2, 0, 0, 0,\n",
              "       0, 0, 0, 0, 0, 0, 0, 2, 2, 2, 2, 2, 2, 2, 2, 2, 2, 2, 2, 2, 2, 2,\n",
              "       2, 2, 2, 2, 2, 0, 0, 0, 0, 0, 0, 0, 0, 0, 0])"
            ]
          },
          "execution_count": 25,
          "metadata": {},
          "output_type": "execute_result"
        }
      ],
      "source": [
        "LE = LabelEncoder()\n",
        "y = LE.fit_transform(y)\n",
        "y"
      ]
    },
    {
      "cell_type": "code",
      "execution_count": 26,
      "metadata": {
        "id": "QtEPANqHSOLc"
      },
      "outputs": [],
      "source": [
        "X_train, X_test, y_train, y_test = train_test_split(X, y, test_size=0.2, random_state=42, stratify= y)"
      ]
    },
    {
      "cell_type": "code",
      "execution_count": 27,
      "metadata": {
        "colab": {
          "base_uri": "https://localhost:8080/"
        },
        "id": "jvexk5iQSOLc",
        "outputId": "c71687c6-5471-4eb1-b4f6-d77d6107f363"
      },
      "outputs": [
        {
          "data": {
            "text/plain": [
              "((399, 300), (100, 300))"
            ]
          },
          "execution_count": 27,
          "metadata": {},
          "output_type": "execute_result"
        }
      ],
      "source": [
        "X_train.shape, X_test.shape"
      ]
    },
    {
      "cell_type": "markdown",
      "metadata": {
        "id": "nDcNvvI1SOLc"
      },
      "source": [
        "## Train Models"
      ]
    },
    {
      "cell_type": "code",
      "execution_count": 28,
      "metadata": {
        "colab": {
          "base_uri": "https://localhost:8080/"
        },
        "id": "g7mZdDt3SOLc",
        "outputId": "3d5387b9-d533-4b29-d071-c0921524b671"
      },
      "outputs": [
        {
          "name": "stdout",
          "output_type": "stream",
          "text": [
            "              precision    recall  f1-score   support\n",
            "\n",
            "           0       0.70      0.78      0.74        40\n",
            "           1       0.40      0.30      0.34        20\n",
            "           2       0.83      0.85      0.84        40\n",
            "\n",
            "    accuracy                           0.71       100\n",
            "   macro avg       0.64      0.64      0.64       100\n",
            "weighted avg       0.69      0.71      0.70       100\n",
            "\n",
            "Accuracy: 0.71\n"
          ]
        }
      ],
      "source": [
        "# logistic\n",
        "clf = LogisticRegression(solver = \"liblinear\", max_iter=500)\n",
        "clf.fit(X_train, y_train)\n",
        "y_pred = clf.predict(X_test)\n",
        "print(classification_report(y_test, y_pred))\n",
        "print('Accuracy:', acc(y_test, y_pred))"
      ]
    },
    {
      "cell_type": "code",
      "execution_count": 29,
      "metadata": {
        "colab": {
          "base_uri": "https://localhost:8080/"
        },
        "id": "oTDIUmf2SOLc",
        "outputId": "8770cb94-1f6f-4051-c5be-8104a1184b41"
      },
      "outputs": [
        {
          "name": "stdout",
          "output_type": "stream",
          "text": [
            "              precision    recall  f1-score   support\n",
            "\n",
            "           0       0.66      0.78      0.71        40\n",
            "           1       0.27      0.20      0.23        20\n",
            "           2       0.87      0.82      0.85        40\n",
            "\n",
            "    accuracy                           0.68       100\n",
            "   macro avg       0.60      0.60      0.60       100\n",
            "weighted avg       0.66      0.68      0.67       100\n",
            "\n",
            "Accuracy: 0.68\n"
          ]
        }
      ],
      "source": [
        "##SVM\n",
        "svm = SVC(kernel=\"linear\")\n",
        "svm.fit(X_train, y_train)\n",
        "y_pred = svm.predict(X_test)\n",
        "print(classification_report(y_test, y_pred))\n",
        "print('Accuracy:', acc(y_test, y_pred))"
      ]
    },
    {
      "cell_type": "code",
      "execution_count": 30,
      "metadata": {
        "colab": {
          "base_uri": "https://localhost:8080/"
        },
        "id": "6PrXx3IqSOLc",
        "outputId": "6b00aa32-cddc-4ea6-dcc3-01c348c0eaeb"
      },
      "outputs": [
        {
          "name": "stdout",
          "output_type": "stream",
          "text": [
            "              precision    recall  f1-score   support\n",
            "\n",
            "           0       0.57      0.75      0.65        40\n",
            "           1       0.50      0.05      0.09        20\n",
            "           2       0.73      0.82      0.78        40\n",
            "\n",
            "    accuracy                           0.64       100\n",
            "   macro avg       0.60      0.54      0.50       100\n",
            "weighted avg       0.62      0.64      0.59       100\n",
            "\n",
            "Accuracy: 0.64\n"
          ]
        }
      ],
      "source": [
        "##Random Forest\n",
        "rf = RandomForestClassifier(n_estimators=500, criterion=\"entropy\")\n",
        "rf.fit(X_train, y_train)\n",
        "y_pred = rf.predict(X_test)\n",
        "print(classification_report(y_test, y_pred))\n",
        "print('Accuracy:', acc(y_test, y_pred))"
      ]
    },
    {
      "cell_type": "markdown",
      "metadata": {
        "id": "f-S96cHLSOLc"
      },
      "source": [
        "## CNN\n"
      ]
    },
    {
      "cell_type": "code",
      "execution_count": 31,
      "metadata": {
        "colab": {
          "base_uri": "https://localhost:8080/",
          "height": 293
        },
        "id": "AQlC8OUDSOLc",
        "outputId": "c094e3f3-cf70-4687-ecf8-0f79f4bf3bee"
      },
      "outputs": [
        {
          "data": {
            "text/html": [
              "<div>\n",
              "<style scoped>\n",
              "    .dataframe tbody tr th:only-of-type {\n",
              "        vertical-align: middle;\n",
              "    }\n",
              "\n",
              "    .dataframe tbody tr th {\n",
              "        vertical-align: top;\n",
              "    }\n",
              "\n",
              "    .dataframe thead th {\n",
              "        text-align: right;\n",
              "    }\n",
              "</style>\n",
              "<table border=\"1\" class=\"dataframe\">\n",
              "  <thead>\n",
              "    <tr style=\"text-align: right;\">\n",
              "      <th></th>\n",
              "      <th>ratingScore</th>\n",
              "      <th>reviewDescription</th>\n",
              "      <th>ratingSentiment</th>\n",
              "      <th>ratingClassified</th>\n",
              "      <th>cleanDesc</th>\n",
              "      <th>vec</th>\n",
              "    </tr>\n",
              "  </thead>\n",
              "  <tbody>\n",
              "    <tr>\n",
              "      <th>0</th>\n",
              "      <td>3</td>\n",
              "      <td>Pillows have arrived and they seem very flat c...</td>\n",
              "      <td>0.0</td>\n",
              "      <td>neutral</td>\n",
              "      <td>pillow have arrived and they seem very flat co...</td>\n",
              "      <td>[-1.4690695, 2.7291524, -3.4343462, -0.1550789...</td>\n",
              "    </tr>\n",
              "    <tr>\n",
              "      <th>1</th>\n",
              "      <td>3</td>\n",
              "      <td>Seemed to suggest they were ever plump, but so...</td>\n",
              "      <td>0.0</td>\n",
              "      <td>neutral</td>\n",
              "      <td>seemed to suggest they were ever plump but soo...</td>\n",
              "      <td>[-1.8024529, 2.1519244, -2.025902, -0.2916843,...</td>\n",
              "    </tr>\n",
              "    <tr>\n",
              "      <th>2</th>\n",
              "      <td>3</td>\n",
              "      <td>Feel good...</td>\n",
              "      <td>0.0</td>\n",
              "      <td>neutral</td>\n",
              "      <td>feel good</td>\n",
              "      <td>[0.06918, -0.38524, -3.9240499, -3.42745, 0.59...</td>\n",
              "    </tr>\n",
              "    <tr>\n",
              "      <th>3</th>\n",
              "      <td>3</td>\n",
              "      <td>Expected them to be firm but they are a little...</td>\n",
              "      <td>0.0</td>\n",
              "      <td>neutral</td>\n",
              "      <td>expected them to be firm but they are little t...</td>\n",
              "      <td>[-1.7878836, 3.2223725, -5.2726912, 0.61334175...</td>\n",
              "    </tr>\n",
              "    <tr>\n",
              "      <th>4</th>\n",
              "      <td>3</td>\n",
              "      <td>Push your heads up,isn't really pillowy.Side s...</td>\n",
              "      <td>0.0</td>\n",
              "      <td>neutral</td>\n",
              "      <td>push your head up isn really pillowy side slee...</td>\n",
              "      <td>[-0.6303085, 2.8425322, -4.204991, 1.0299304, ...</td>\n",
              "    </tr>\n",
              "  </tbody>\n",
              "</table>\n",
              "</div>"
            ],
            "text/plain": [
              "   ratingScore                                  reviewDescription  \\\n",
              "0            3  Pillows have arrived and they seem very flat c...   \n",
              "1            3  Seemed to suggest they were ever plump, but so...   \n",
              "2            3                                       Feel good...   \n",
              "3            3  Expected them to be firm but they are a little...   \n",
              "4            3  Push your heads up,isn't really pillowy.Side s...   \n",
              "\n",
              "   ratingSentiment ratingClassified  \\\n",
              "0              0.0          neutral   \n",
              "1              0.0          neutral   \n",
              "2              0.0          neutral   \n",
              "3              0.0          neutral   \n",
              "4              0.0          neutral   \n",
              "\n",
              "                                           cleanDesc  \\\n",
              "0  pillow have arrived and they seem very flat co...   \n",
              "1  seemed to suggest they were ever plump but soo...   \n",
              "2                                         feel good    \n",
              "3  expected them to be firm but they are little t...   \n",
              "4  push your head up isn really pillowy side slee...   \n",
              "\n",
              "                                                 vec  \n",
              "0  [-1.4690695, 2.7291524, -3.4343462, -0.1550789...  \n",
              "1  [-1.8024529, 2.1519244, -2.025902, -0.2916843,...  \n",
              "2  [0.06918, -0.38524, -3.9240499, -3.42745, 0.59...  \n",
              "3  [-1.7878836, 3.2223725, -5.2726912, 0.61334175...  \n",
              "4  [-0.6303085, 2.8425322, -4.204991, 1.0299304, ...  "
            ]
          },
          "execution_count": 31,
          "metadata": {},
          "output_type": "execute_result"
        }
      ],
      "source": [
        "df.head()"
      ]
    },
    {
      "cell_type": "code",
      "execution_count": 32,
      "metadata": {
        "id": "-FMeCeSzSOLc"
      },
      "outputs": [
        {
          "name": "stdout",
          "output_type": "stream",
          "text": [
            "WARNING:tensorflow:From c:\\Users\\Tony\\anaconda3\\Lib\\site-packages\\keras\\src\\losses.py:2976: The name tf.losses.sparse_softmax_cross_entropy is deprecated. Please use tf.compat.v1.losses.sparse_softmax_cross_entropy instead.\n",
            "\n"
          ]
        }
      ],
      "source": [
        "from keras.utils import to_categorical\n",
        "X = df.cleanDesc\n",
        "y = df.ratingClassified\n",
        "label_encoder = LabelEncoder()\n",
        "y = label_encoder.fit_transform(y)\n"
      ]
    },
    {
      "cell_type": "code",
      "execution_count": 33,
      "metadata": {
        "colab": {
          "base_uri": "https://localhost:8080/"
        },
        "id": "GDKCspg4SOLd",
        "outputId": "b647396c-fc94-438f-cbe5-a5bcab3385da"
      },
      "outputs": [
        {
          "data": {
            "text/plain": [
              "array([1, 1, 1, 1, 1, 1, 1, 1, 1, 1, 2, 2, 2, 2, 2, 2, 2, 2, 2, 2, 0, 0,\n",
              "       0, 0, 0, 0, 0, 0, 0, 0, 1, 1, 1, 1, 1, 1, 1, 1, 1, 1, 1, 1, 1, 1,\n",
              "       1, 1, 1, 1, 1, 1, 1, 1, 1, 1, 1, 1, 1, 1, 1, 1, 1, 1, 1, 1, 1, 1,\n",
              "       1, 1, 1, 1, 1, 1, 1, 1, 1, 1, 1, 1, 1, 1, 2, 2, 2, 2, 2, 2, 2, 2,\n",
              "       2, 2, 0, 0, 0, 0, 0, 0, 0, 0, 0, 0, 2, 2, 2, 2, 2, 2, 2, 2, 2, 2,\n",
              "       2, 2, 2, 2, 2, 2, 2, 2, 2, 2, 2, 2, 2, 2, 2, 2, 2, 2, 2, 2, 2, 2,\n",
              "       2, 2, 2, 2, 2, 2, 2, 2, 1, 1, 1, 1, 1, 1, 1, 1, 1, 1, 1, 1, 1, 1,\n",
              "       1, 1, 1, 1, 1, 1, 0, 0, 0, 0, 0, 0, 0, 0, 0, 0, 0, 0, 0, 0, 0, 0,\n",
              "       0, 0, 0, 0, 2, 2, 2, 2, 2, 2, 2, 2, 2, 2, 0, 0, 0, 0, 0, 0, 0, 0,\n",
              "       0, 0, 2, 2, 2, 2, 2, 2, 2, 2, 2, 2, 0, 0, 0, 0, 0, 0, 0, 0, 0, 0,\n",
              "       0, 0, 0, 0, 0, 0, 0, 0, 0, 0, 2, 2, 2, 2, 2, 2, 2, 2, 2, 0, 0, 0,\n",
              "       0, 0, 0, 0, 0, 0, 0, 0, 0, 0, 0, 0, 0, 0, 0, 0, 0, 2, 2, 2, 2, 2,\n",
              "       2, 2, 2, 2, 2, 0, 0, 0, 0, 0, 0, 0, 0, 0, 0, 0, 0, 0, 0, 0, 0, 0,\n",
              "       0, 0, 0, 0, 0, 0, 0, 0, 0, 0, 0, 0, 0, 0, 0, 0, 0, 0, 0, 0, 0, 0,\n",
              "       0, 1, 1, 1, 1, 1, 1, 1, 1, 1, 1, 2, 2, 2, 2, 2, 2, 2, 2, 2, 2, 2,\n",
              "       2, 2, 2, 2, 2, 2, 2, 2, 2, 0, 0, 0, 0, 0, 0, 0, 0, 0, 0, 0, 0, 0,\n",
              "       0, 0, 0, 0, 0, 0, 0, 2, 2, 2, 2, 2, 2, 2, 2, 2, 2, 2, 2, 2, 2, 2,\n",
              "       2, 2, 2, 2, 2, 1, 1, 1, 1, 1, 1, 1, 1, 1, 1, 0, 0, 0, 0, 0, 0, 0,\n",
              "       0, 0, 0, 2, 2, 2, 2, 2, 2, 2, 2, 2, 2, 2, 2, 2, 2, 2, 2, 2, 2, 2,\n",
              "       2, 2, 2, 2, 2, 2, 2, 2, 2, 2, 2, 0, 0, 0, 0, 0, 0, 0, 0, 0, 0, 0,\n",
              "       0, 0, 0, 0, 0, 0, 0, 0, 0, 2, 2, 2, 2, 2, 2, 2, 2, 2, 2, 0, 0, 0,\n",
              "       0, 0, 0, 0, 0, 0, 0, 2, 2, 2, 2, 2, 2, 2, 2, 2, 2, 2, 2, 2, 2, 2,\n",
              "       2, 2, 2, 2, 2, 0, 0, 0, 0, 0, 0, 0, 0, 0, 0])"
            ]
          },
          "execution_count": 33,
          "metadata": {},
          "output_type": "execute_result"
        }
      ],
      "source": [
        "y"
      ]
    },
    {
      "cell_type": "code",
      "execution_count": 34,
      "metadata": {
        "id": "1e7v8yc6SOLd"
      },
      "outputs": [],
      "source": [
        "X_train, X_test, Y_train, Y_test = train_test_split(X, y, test_size=0.2, stratify=y)"
      ]
    },
    {
      "cell_type": "code",
      "execution_count": 35,
      "metadata": {
        "id": "hbeGdqLMSOLd"
      },
      "outputs": [],
      "source": [
        "from gensim.models import Word2Vec\n",
        "Embedding_dimensions = 100"
      ]
    },
    {
      "cell_type": "code",
      "execution_count": 36,
      "metadata": {
        "colab": {
          "base_uri": "https://localhost:8080/"
        },
        "id": "BsKahdRpSOLd",
        "outputId": "34e16cce-4d97-4d21-d45a-57bce06c496b"
      },
      "outputs": [
        {
          "data": {
            "text/plain": [
              "(499,)"
            ]
          },
          "execution_count": 36,
          "metadata": {},
          "output_type": "execute_result"
        }
      ],
      "source": [
        "y.shape"
      ]
    },
    {
      "cell_type": "code",
      "execution_count": 37,
      "metadata": {
        "colab": {
          "base_uri": "https://localhost:8080/"
        },
        "id": "XQdr7ATWSOLf",
        "outputId": "c39aabba-1f59-4454-d7ad-d657f44a3f48"
      },
      "outputs": [
        {
          "data": {
            "text/plain": [
              "(399,)"
            ]
          },
          "execution_count": 37,
          "metadata": {},
          "output_type": "execute_result"
        }
      ],
      "source": [
        "Y_train.shape"
      ]
    },
    {
      "cell_type": "code",
      "execution_count": 38,
      "metadata": {
        "id": "jdNpYZ_ISOLm"
      },
      "outputs": [],
      "source": [
        "Word2vec_train_data = list(map(lambda x: x.split(), X_train))\n",
        "word2vec_model = Word2Vec(Word2vec_train_data,\n",
        "                 vector_size=Embedding_dimensions,\n",
        "                 workers=8,\n",
        "                 min_count=5)"
      ]
    },
    {
      "cell_type": "code",
      "execution_count": 39,
      "metadata": {
        "colab": {
          "base_uri": "https://localhost:8080/"
        },
        "id": "vHfTT2I0SOLm",
        "outputId": "bd80bad6-5595-489c-9d06-a3cf1427b37e"
      },
      "outputs": [
        {
          "data": {
            "text/plain": [
              "(1166, 930)"
            ]
          },
          "execution_count": 39,
          "metadata": {},
          "output_type": "execute_result"
        }
      ],
      "source": [
        "max_words = len(set(\" \".join(X_train).split()))\n",
        "max_len = X_train.apply(lambda x: len(x)).max()\n",
        "\n",
        "max_words, max_len"
      ]
    },
    {
      "cell_type": "code",
      "execution_count": 40,
      "metadata": {
        "id": "v4Stjb57SOLm"
      },
      "outputs": [],
      "source": [
        "# Deep Learing Preprocessing - Keras\n",
        "from keras.preprocessing.text import Tokenizer\n",
        "from keras.preprocessing import sequence"
      ]
    },
    {
      "cell_type": "code",
      "execution_count": 41,
      "metadata": {
        "id": "FcILmfa7SOLm"
      },
      "outputs": [],
      "source": [
        "tokenizer = Tokenizer(num_words=max_words)\n",
        "\n",
        "tokenizer.fit_on_texts(X_train)\n",
        "\n",
        "X_train_seq = tokenizer.texts_to_sequences(X_train)\n",
        "X_train_seq = sequence.pad_sequences(X_train_seq, maxlen=max_len)"
      ]
    },
    {
      "cell_type": "code",
      "execution_count": 42,
      "metadata": {
        "colab": {
          "base_uri": "https://localhost:8080/"
        },
        "id": "f_ntdmSKSOLm",
        "outputId": "e98e426c-0485-43f4-9735-2b8e67965936"
      },
      "outputs": [
        {
          "name": "stdout",
          "output_type": "stream",
          "text": [
            "Embedding Matrix Shape: (1166, 100)\n"
          ]
        }
      ],
      "source": [
        "embedding_matrix = np.zeros((max_words, Embedding_dimensions))\n",
        "\n",
        "for word, token in tokenizer.word_index.items():\n",
        "    if word2vec_model.wv.__contains__(word):\n",
        "        embedding_matrix[token] = word2vec_model.wv.__getitem__(word)\n",
        "\n",
        "print(\"Embedding Matrix Shape:\", embedding_matrix.shape)"
      ]
    },
    {
      "cell_type": "code",
      "execution_count": 43,
      "metadata": {
        "colab": {
          "base_uri": "https://localhost:8080/"
        },
        "id": "Vc2yr0c5SOLn",
        "outputId": "7e52bb05-30f7-408e-b449-6cc7bc4a1f4b"
      },
      "outputs": [
        {
          "data": {
            "text/plain": [
              "array([[ 0.        ,  0.        ,  0.        , ...,  0.        ,\n",
              "         0.        ,  0.        ],\n",
              "       [-0.25283343,  0.19370513,  0.13495384, ..., -0.13641578,\n",
              "         0.18095252, -0.14879036],\n",
              "       [-0.25103199,  0.18948929,  0.13097177, ..., -0.12709336,\n",
              "         0.16424578, -0.14530817],\n",
              "       ...,\n",
              "       [ 0.        ,  0.        ,  0.        , ...,  0.        ,\n",
              "         0.        ,  0.        ],\n",
              "       [ 0.        ,  0.        ,  0.        , ...,  0.        ,\n",
              "         0.        ,  0.        ],\n",
              "       [ 0.        ,  0.        ,  0.        , ...,  0.        ,\n",
              "         0.        ,  0.        ]])"
            ]
          },
          "execution_count": 43,
          "metadata": {},
          "output_type": "execute_result"
        }
      ],
      "source": [
        "embedding_matrix"
      ]
    },
    {
      "cell_type": "code",
      "execution_count": 44,
      "metadata": {
        "id": "hytOWRElSOLn"
      },
      "outputs": [],
      "source": [
        "from tensorflow.keras import Sequential\n",
        "from tensorflow.keras.layers import Bidirectional, GlobalMaxPool1D, Dense, LSTM, Conv1D, Embedding, BatchNormalization"
      ]
    },
    {
      "cell_type": "code",
      "execution_count": 45,
      "metadata": {
        "id": "6mYJhcMISOLn"
      },
      "outputs": [],
      "source": [
        "def getModel():\n",
        "    embedding_layer = Embedding(input_dim = max_words,\n",
        "                                output_dim = Embedding_dimensions,\n",
        "                                weights=[embedding_matrix],\n",
        "                                input_length=max_len,\n",
        "                                )\n",
        "\n",
        "    model = Sequential([\n",
        "        embedding_layer,\n",
        "        Bidirectional(LSTM(100, dropout=0.25, return_sequences=True)),\n",
        "        Bidirectional(LSTM(100, dropout=0.25, return_sequences=True)),\n",
        "        BatchNormalization(),\n",
        "        Conv1D(24, 3,padding = \"valid\", activation='relu'),\n",
        "        GlobalMaxPool1D(),\n",
        "        Dense(16, activation='relu'),\n",
        "        Dense(3, activation='softmax'),\n",
        "    ],\n",
        "    name=\"Sentiment_Model\")\n",
        "    return model"
      ]
    },
    {
      "cell_type": "code",
      "execution_count": 46,
      "metadata": {
        "colab": {
          "base_uri": "https://localhost:8080/"
        },
        "id": "YlA3kF54SOLn",
        "outputId": "99aae094-7f46-4a92-eb94-2a1c5fac6015"
      },
      "outputs": [
        {
          "name": "stdout",
          "output_type": "stream",
          "text": [
            "WARNING:tensorflow:From c:\\Users\\Tony\\anaconda3\\Lib\\site-packages\\keras\\src\\backend.py:873: The name tf.get_default_graph is deprecated. Please use tf.compat.v1.get_default_graph instead.\n",
            "\n",
            "Model: \"Sentiment_Model\"\n",
            "_________________________________________________________________\n",
            " Layer (type)                Output Shape              Param #   \n",
            "=================================================================\n",
            " embedding (Embedding)       (None, 930, 100)          116600    \n",
            "                                                                 \n",
            " bidirectional (Bidirection  (None, 930, 200)          160800    \n",
            " al)                                                             \n",
            "                                                                 \n",
            " bidirectional_1 (Bidirecti  (None, 930, 200)          240800    \n",
            " onal)                                                           \n",
            "                                                                 \n",
            " batch_normalization (Batch  (None, 930, 200)          800       \n",
            " Normalization)                                                  \n",
            "                                                                 \n",
            " conv1d (Conv1D)             (None, 928, 24)           14424     \n",
            "                                                                 \n",
            " global_max_pooling1d (Glob  (None, 24)                0         \n",
            " alMaxPooling1D)                                                 \n",
            "                                                                 \n",
            " dense (Dense)               (None, 16)                400       \n",
            "                                                                 \n",
            " dense_1 (Dense)             (None, 3)                 51        \n",
            "                                                                 \n",
            "=================================================================\n",
            "Total params: 533875 (2.04 MB)\n",
            "Trainable params: 533475 (2.04 MB)\n",
            "Non-trainable params: 400 (1.56 KB)\n",
            "_________________________________________________________________\n"
          ]
        }
      ],
      "source": [
        "model1 = getModel()\n",
        "model1.summary()"
      ]
    },
    {
      "cell_type": "code",
      "execution_count": 47,
      "metadata": {
        "id": "DwaLVoiwSOLn"
      },
      "outputs": [],
      "source": [
        "from keras.optimizers import RMSprop, Adam, SGD\n",
        "optimizer = Adam(0.001)\n",
        "model1.compile(loss='sparse_categorical_crossentropy', optimizer= optimizer, metrics=['accuracy'])"
      ]
    },
    {
      "cell_type": "code",
      "execution_count": 54,
      "metadata": {},
      "outputs": [],
      "source": [
        "from tensorflow.keras.callbacks import EarlyStopping\n",
        "callbacks = EarlyStopping(\n",
        "    monitor='accuracy',\n",
        "    min_delta=0.01,\n",
        "    patience=0,\n",
        "    verbose=0,\n",
        "    mode='auto',\n",
        "    baseline=None,\n",
        "    restore_best_weights=True,\n",
        "    start_from_epoch=0\n",
        ")"
      ]
    },
    {
      "cell_type": "code",
      "execution_count": 55,
      "metadata": {
        "colab": {
          "base_uri": "https://localhost:8080/"
        },
        "id": "2yXwLUR4SOLn",
        "outputId": "e6acc219-3728-4f3f-e0c8-76d1428e9e88"
      },
      "outputs": [
        {
          "name": "stdout",
          "output_type": "stream",
          "text": [
            "Epoch 1/50\n",
            "10/10 [==============================] - 16s 2s/step - loss: 0.2284 - accuracy: 0.9216 - val_loss: 1.0003 - val_accuracy: 0.6375\n",
            "Epoch 2/50\n",
            "10/10 [==============================] - 16s 2s/step - loss: 0.1882 - accuracy: 0.9342 - val_loss: 0.9828 - val_accuracy: 0.6000\n",
            "Epoch 3/50\n",
            "10/10 [==============================] - 16s 2s/step - loss: 0.2104 - accuracy: 0.9279 - val_loss: 0.9552 - val_accuracy: 0.6500\n"
          ]
        }
      ],
      "source": [
        "history = model1.fit(\n",
        "    X_train_seq, Y_train,\n",
        "    batch_size=32,\n",
        "    epochs=50,\n",
        "    validation_split=0.20,\n",
        "    verbose=1,\n",
        "    callbacks = callbacks\n",
        ")"
      ]
    }
  ],
  "metadata": {
    "colab": {
      "provenance": []
    },
    "kernelspec": {
      "display_name": "base",
      "language": "python",
      "name": "python3"
    },
    "language_info": {
      "codemirror_mode": {
        "name": "ipython",
        "version": 3
      },
      "file_extension": ".py",
      "mimetype": "text/x-python",
      "name": "python",
      "nbconvert_exporter": "python",
      "pygments_lexer": "ipython3",
      "version": "3.11.5"
    }
  },
  "nbformat": 4,
  "nbformat_minor": 0
}
