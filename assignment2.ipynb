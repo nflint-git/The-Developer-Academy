{
 "cells": [
  {
   "cell_type": "code",
   "execution_count": 1,
   "metadata": {},
   "outputs": [
    {
     "name": "stdout",
     "output_type": "stream",
     "text": [
      "Let's play a game!\n",
      "Your guess 55 is too low!\n",
      "Your guess 64 is too high!\n",
      "Your guess 60 is too low!\n",
      "Wahoo!! You guessed right! The secret number is 62!\n"
     ]
    }
   ],
   "source": [
    "#import random library\n",
    "import random\n",
    "\n",
    "# Set our range of number by creating variables\n",
    "min = 1\n",
    "max = 99\n",
    "\n",
    "# Signify the start of the game\n",
    "print(\"Let's play a game!\")\n",
    "\n",
    "# Generate the number in secret\n",
    "result = random.randint(min, max)\n",
    "\n",
    "#Create function to ensure correctness of input insofar as an integer\n",
    "def get_guess():\n",
    "    while True:\n",
    "        try:\n",
    "            # Request the user to enter their guess\n",
    "            return int(input(f\"Guess a number between {min} and {max}: \"))\n",
    "        except ValueError:\n",
    "            print(\"That's not a valid integer. Please try again.\")\n",
    "        \n",
    "\n",
    "# Request the user to enter their first guess\n",
    "guess = get_guess()\n",
    "\n",
    "while True:  # Commence loop\n",
    "    if guess > result:  # Check if guess is too high\n",
    "        print(f\"Your guess {guess} is too high!\") #display result and instruct user \n",
    "    elif guess < result:  # Check if guess is too low\n",
    "        print(f\"Your guess {guess} is too low!\") #display result and instruct user \n",
    "    else:  # Check if guess is equal to result\n",
    "        print(f\"Wahoo!! You guessed right! The secret number is {result}!\") #display result and congrats\n",
    "        break  # End loop if guess is correct\n",
    "\n",
    "    # Get the next guess if line 29 or 31 conditions are met\n",
    "    guess = get_guess()\n",
    "\n",
    "\n",
    "    "
   ]
  }
 ],
 "metadata": {
  "kernelspec": {
   "display_name": "Python 3",
   "language": "python",
   "name": "python3"
  },
  "language_info": {
   "codemirror_mode": {
    "name": "ipython",
    "version": 3
   },
   "file_extension": ".py",
   "mimetype": "text/x-python",
   "name": "python",
   "nbconvert_exporter": "python",
   "pygments_lexer": "ipython3",
   "version": "3.12.1"
  }
 },
 "nbformat": 4,
 "nbformat_minor": 2
}
