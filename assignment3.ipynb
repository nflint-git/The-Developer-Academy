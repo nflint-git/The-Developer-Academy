{
 "cells": [
  {
   "cell_type": "code",
   "execution_count": 1,
   "metadata": {},
   "outputs": [
    {
     "name": "stdout",
     "output_type": "stream",
     "text": [
      "\n",
      "    Once upon a time, there was a man who lived in a field.\n",
      "\n",
      "    The field was vast. This made the man anxious.\n"
     ]
    }
   ],
   "source": [
    "# create a dictionary to store the type of words that the user can input with their soon-to-be actual inputs\n",
    "inputs = {\n",
    "    \"subject_noun\": \"\",\n",
    "    \"place_noun\": \"\",\n",
    "    \"place_adjective\": \"\",\n",
    "    \"emotion\": \"\"\n",
    "    }\n",
    "\n",
    "#define the game as a function which runs a loop that takes the key from the dictionary\n",
    "def madlibs():\n",
    "    for word_type in inputs: #runs through the keys iteratively\n",
    "        inputs[word_type] = input(\"Please type a(n) \" + word_type) #allows the user to input and modify the value-pair\n",
    "       \n",
    "    story_list =  \"\"\"\n",
    "    Once upon a time, there was a {subject_noun} who lived in a {place_noun}.\\n\n",
    "    The {place_noun} was {place_adjective}. This made the {subject_noun} {emotion}.\"\"\".format(**inputs) #takes the keys from the dictionary and inputs the value-pair\n",
    "\n",
    "    print(story_list)\n",
    "\n",
    "madlibs()"
   ]
  }
 ],
 "metadata": {
  "kernelspec": {
   "display_name": "Python 3",
   "language": "python",
   "name": "python3"
  },
  "language_info": {
   "codemirror_mode": {
    "name": "ipython",
    "version": 3
   },
   "file_extension": ".py",
   "mimetype": "text/x-python",
   "name": "python",
   "nbconvert_exporter": "python",
   "pygments_lexer": "ipython3",
   "version": "3.12.1"
  }
 },
 "nbformat": 4,
 "nbformat_minor": 2
}
