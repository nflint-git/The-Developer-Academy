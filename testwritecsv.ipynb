{
 "cells": [
  {
   "cell_type": "code",
   "execution_count": 6,
   "metadata": {},
   "outputs": [
    {
     "name": "stdout",
     "output_type": "stream",
     "text": [
      "['Nick', 'Flint'] has been marked present.\n",
      "['Tobi', 'Guest'] has been marked present.\n",
      "['Tahir', 'Suleman'] has been marked present.\n",
      "You have entered  incorrectly.\n",
      "You have entered  incorrectly.\n",
      "['Andoni', 'Erodiadou'] has been marked absent.\n",
      "[['Nick', 'Flint', 'Attended'], ['Tobi', 'Guest', 'Attended'], ['Tahir', 'Suleman', 'Attended'], ['Andoni', 'Erodiadou', 'Did not attend.']]\n"
     ]
    }
   ],
   "source": [
    "## import the csv containing the names\n",
    "import csv\n",
    "names = []\n",
    "with open(\"Attendance.csv\", \"r\") as attend:\n",
    "    reader = csv.reader(attend)\n",
    "    for line in reader:\n",
    "        names.append(line) \n",
    "\n",
    "#create a duplicate list that we can use to mark attendance        \n",
    "register = names[:]\n",
    " \n",
    "for person in names:\n",
    "    ask_attendance = input((f\"Did {person} attend the session? Yes or No.\")).lower()\n",
    "    \n",
    "    #run a loop to ensure that the user inputs correctly\n",
    "    while ask_attendance != \"yes\" and ask_attendance != \"no\":\n",
    "        print(\"You have entered  incorrectly.\")\n",
    "        ask_attendance = input((f\"Did {person} attend the session? Yes or No.\")).lower()   \n",
    "    \n",
    "    if ask_attendance == \"yes\":\n",
    "        print(f\"{person} has been marked present.\")\n",
    "        register[names.index(person)].append(\"Attended\") #this will mark attendance to the matching list, in this case is redundant I think \n",
    "\n",
    "    else:\n",
    "        print(f\"{person} has been marked absent.\")\n",
    "        register[names.index(person)].append(\"Did not attend.\")\n",
    "   \n",
    "print(register)\n",
    "\n",
    "with open(\"Marked_attendance.csv\", \"w\", newline=\"\") as file:\n",
    "    writer = csv.writer(file)\n",
    "    writer.writerow([\"Forename\", \"Surname\", \"Marked Attendance\"])\n",
    "    writer.writerows(register)\n"
   ]
  }
 ],
 "metadata": {
  "kernelspec": {
   "display_name": "Python 3",
   "language": "python",
   "name": "python3"
  },
  "language_info": {
   "codemirror_mode": {
    "name": "ipython",
    "version": 3
   },
   "file_extension": ".py",
   "mimetype": "text/x-python",
   "name": "python",
   "nbconvert_exporter": "python",
   "pygments_lexer": "ipython3",
   "version": "3.12.1"
  }
 },
 "nbformat": 4,
 "nbformat_minor": 2
}
