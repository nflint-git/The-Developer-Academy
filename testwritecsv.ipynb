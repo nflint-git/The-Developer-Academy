{
 "cells": [
  {
   "cell_type": "code",
   "execution_count": null,
   "metadata": {},
   "outputs": [],
   "source": [
    "#create a text file where the user inputs name and age\n",
    "import csv\n",
    "with open((\"Attendance.csv\"), mode =\"a\") as csvfile:\n",
    "    character_writer = csv.writer(csvfile, delimiter=\",\",quotechar=\"\", quoting=csv.QUOTE_MINIMAL)\n",
    "    character_writer.writerow([\"Margo\", \"Gru\"])\n",
    "    character_writer.writerow([\"Edith\", \"Gru\"])\n",
    "    character_writer.writerow([\"Agnes\", \"Gru\"])"
   ]
  },
  {
   "cell_type": "code",
   "execution_count": 2,
   "metadata": {},
   "outputs": [
    {
     "name": "stdout",
     "output_type": "stream",
     "text": [
      "You have entered  incorrectly.\n",
      "You have entered  incorrectly.\n",
      "You have entered  incorrectly.\n",
      "['Nick', 'Flint'] has been marked present.\n",
      "['Tobi', 'Guest'] has been marked present.\n",
      "['Tahir', 'Suleman'] has been marked present.\n",
      "['Andoni', 'Erodiadou'] has been marked present.\n",
      "[['Nick', 'Flint', 'Attended'], ['Tobi', 'Guest', 'Attended'], ['Tahir', 'Suleman', 'Attended'], ['Andoni', 'Erodiadou', 'Attended']]\n"
     ]
    }
   ],
   "source": [
    "## import the csv containing the names\n",
    "import csv\n",
    "names = []\n",
    "with open(\"Attendance.csv\", \"r\") as attend:\n",
    "    reader = csv.reader(attend)\n",
    "    for line in reader:\n",
    "        names.append(line) \n",
    "\n",
    "#create a duplicate list that we can use to mark attendance        \n",
    "register = names[:]\n",
    " \n",
    "for person in names:\n",
    "    ask_attendance = input((f\"Did {person} attend the session? Yes or No.\")).lower()\n",
    "    \n",
    "    #run a loop to ensure that the user inputs correctly\n",
    "    while ask_attendance != \"yes\" and ask_attendance != \"no\":\n",
    "        print(\"You have entered  incorrectly.\")\n",
    "        ask_attendance = input((f\"Did {person} attend the session? Yes or No.\")).lower()   \n",
    "    \n",
    "    if ask_attendance == \"yes\":\n",
    "        print(f\"{person} has been marked present.\")\n",
    "        register[names.index(person)].append(\"Attended\")\n",
    "    elif ask_attendance == \"no\":\n",
    "        print(f\"{person} has been marked absent.\")\n",
    "        register[names.index(person)].append(\"Did not attend.\")\n",
    "   \n",
    "print(register)\n",
    "\n",
    "with open(\"Marked_attendance.csv\", mode = \"a\", newline=\"\") as file:\n",
    "    writer = csv.writer(file)\n",
    "    writer.writerows(register)\n"
   ]
  },
  {
   "cell_type": "markdown",
   "metadata": {},
   "source": [
    "Need to read an list of people, check attendance and then write the attendance on a new file \n",
    "\n"
   ]
  }
 ],
 "metadata": {
  "kernelspec": {
   "display_name": "Python 3",
   "language": "python",
   "name": "python3"
  },
  "language_info": {
   "codemirror_mode": {
    "name": "ipython",
    "version": 3
   },
   "file_extension": ".py",
   "mimetype": "text/x-python",
   "name": "python",
   "nbconvert_exporter": "python",
   "pygments_lexer": "ipython3",
   "version": "3.12.1"
  }
 },
 "nbformat": 4,
 "nbformat_minor": 2
}
