{
 "cells": [
  {
   "cell_type": "code",
   "execution_count": 2,
   "metadata": {},
   "outputs": [],
   "source": [
    "import numpy as np\n"
   ]
  },
  {
   "cell_type": "markdown",
   "metadata": {},
   "source": [
    "Library used for scientific computing. "
   ]
  },
  {
   "cell_type": "code",
   "execution_count": 5,
   "metadata": {},
   "outputs": [
    {
     "name": "stdout",
     "output_type": "stream",
     "text": [
      "[1 2 3]\n",
      "[[1 2 3]\n",
      " [4 5 6]]\n"
     ]
    }
   ],
   "source": [
    "#Array\n",
    "\n",
    "my1darray = np.array([1,2,3])\n",
    "print(my1darray)\n",
    "\n",
    "my2dArray = np.array([[1,2,3],[4,5,6]])\n",
    "print(my2dArray)"
   ]
  },
  {
   "cell_type": "code",
   "execution_count": 10,
   "metadata": {},
   "outputs": [
    {
     "data": {
      "text/plain": [
       "dtype('int32')"
      ]
     },
     "execution_count": 10,
     "metadata": {},
     "output_type": "execute_result"
    }
   ],
   "source": [
    "my1darray.dtype\n",
    "## you can select the data type \n"
   ]
  },
  {
   "cell_type": "code",
   "execution_count": 9,
   "metadata": {},
   "outputs": [
    {
     "data": {
      "text/plain": [
       "dtype('float32')"
      ]
     },
     "execution_count": 9,
     "metadata": {},
     "output_type": "execute_result"
    }
   ],
   "source": [
    "my2dArray = np.array([[1,2,3],[4,5,6]], dtype = 'float32')\n",
    "my2dArray.dtype"
   ]
  },
  {
   "cell_type": "code",
   "execution_count": 12,
   "metadata": {},
   "outputs": [
    {
     "data": {
      "text/plain": [
       "dtype('<U11')"
      ]
     },
     "execution_count": 12,
     "metadata": {},
     "output_type": "execute_result"
    }
   ],
   "source": [
    "#can have both integers and strings\n",
    "charArray = np.array([(1,\"a\",3), (1,2,3)])\n",
    "charArray.dtype\n",
    "\n",
    "#python parses everything as strings because python priotises unicode over integers"
   ]
  },
  {
   "cell_type": "code",
   "execution_count": 15,
   "metadata": {},
   "outputs": [
    {
     "name": "stdout",
     "output_type": "stream",
     "text": [
      "[[0 0 0]\n",
      " [0 0 0]]\n"
     ]
    }
   ],
   "source": [
    "#array initialisation \n",
    "\n",
    "num_rows = 2\n",
    "num_columns = 3\n",
    "\n",
    "##array of 0s, automatically a float type\n",
    "array0s = np.zeros((num_rows, num_columns), dtype = \"int32\")\n",
    "print(array0s)\n",
    "\n",
    "array0s = np.zeros((2,3), dtype=np.int32)"
   ]
  },
  {
   "cell_type": "code",
   "execution_count": 16,
   "metadata": {},
   "outputs": [
    {
     "name": "stdout",
     "output_type": "stream",
     "text": [
      "[[1. 1. 1.]\n",
      " [1. 1. 1.]]\n"
     ]
    }
   ],
   "source": [
    "array1s = np.ones((num_rows, num_columns))\n",
    "print(array1s)\n",
    "\n",
    "array5s = 5*np.ones((num_rows, num_columns), dtype=np.int32)"
   ]
  },
  {
   "cell_type": "code",
   "execution_count": 19,
   "metadata": {},
   "outputs": [
    {
     "name": "stdout",
     "output_type": "stream",
     "text": [
      "[[7 7 7]\n",
      " [7 7 7]]\n"
     ]
    },
    {
     "data": {
      "text/plain": [
       "dtype('int32')"
      ]
     },
     "execution_count": 19,
     "metadata": {},
     "output_type": "execute_result"
    }
   ],
   "source": [
    "array7s = np.full((num_rows, num_columns),7)\n",
    "print(array7s)\n",
    "array7s.dtype\n",
    "#different np routines can result in different data types so can be useful to set it yourself\n"
   ]
  },
  {
   "cell_type": "code",
   "execution_count": 20,
   "metadata": {},
   "outputs": [
    {
     "name": "stdout",
     "output_type": "stream",
     "text": [
      "[10 13 16 19 22]\n"
     ]
    }
   ],
   "source": [
    "start = 10\n",
    "end = 25\n",
    "step = 3\n",
    "#arrange is spelt arange in python\n",
    "evenlystep = np.arange(start, end, step)\n",
    "print(evenlystep)"
   ]
  },
  {
   "cell_type": "code",
   "execution_count": 25,
   "metadata": {},
   "outputs": [
    {
     "name": "stdout",
     "output_type": "stream",
     "text": [
      "[10 15 20 25]\n"
     ]
    }
   ],
   "source": [
    "#gen equal spaced number\n",
    "number_samples = 4\n",
    "evenlysample = np.linspace(start, end, number_samples, dtype = np.int32)\n",
    "print(evenlysample)"
   ]
  },
  {
   "cell_type": "code",
   "execution_count": 27,
   "metadata": {},
   "outputs": [
    {
     "name": "stdout",
     "output_type": "stream",
     "text": [
      "[[1 0 0]\n",
      " [0 1 0]\n",
      " [0 0 1]]\n"
     ]
    }
   ],
   "source": [
    "identity = np.eye(3, dtype = np.int32)\n",
    "print(identity)"
   ]
  },
  {
   "cell_type": "code",
   "execution_count": 28,
   "metadata": {},
   "outputs": [
    {
     "name": "stdout",
     "output_type": "stream",
     "text": [
      "[[0.28822022 0.00127475 0.96759802]\n",
      " [0.11560082 0.77178573 0.61687867]]\n"
     ]
    }
   ],
   "source": [
    "#will gen float numbers between 0 and 1, excludes 1\n",
    "random01 = np.random.random((2,3))\n",
    "print(random01)"
   ]
  },
  {
   "cell_type": "code",
   "execution_count": 29,
   "metadata": {},
   "outputs": [
    {
     "name": "stdout",
     "output_type": "stream",
     "text": [
      "[[0 9 0]\n",
      " [8 3 9]]\n"
     ]
    }
   ],
   "source": [
    "#specify the range of randomness before the dimensions of the matrix\n",
    "randomintrange = np.random.randint(0,10,(2,3))\n",
    "print(randomintrange)"
   ]
  },
  {
   "cell_type": "code",
   "execution_count": 103,
   "metadata": {},
   "outputs": [
    {
     "name": "stdout",
     "output_type": "stream",
     "text": [
      "6\n"
     ]
    }
   ],
   "source": [
    "#numpy array inspection, indexing, slicing\n",
    "a = np.array(([5,6,3],[2,6,1]))\n",
    "a.ndim #gives dimension\n",
    "a.shape #gives shape\n",
    "a.size #gives size\n",
    "a.dtype #gives data type\n",
    "print(b)"
   ]
  },
  {
   "cell_type": "code",
   "execution_count": 105,
   "metadata": {},
   "outputs": [
    {
     "name": "stdout",
     "output_type": "stream",
     "text": [
      "[[5 6 3]\n",
      " [2 6 1]]\n"
     ]
    },
    {
     "data": {
      "text/plain": [
       "array([3, 1])"
      ]
     },
     "execution_count": 105,
     "metadata": {},
     "output_type": "execute_result"
    }
   ],
   "source": [
    "# index row x column, indexes at zero\n",
    "#if slicing rem that does not include the end range\n",
    "print(a)\n",
    "a[0:2,2]"
   ]
  },
  {
   "cell_type": "code",
   "execution_count": 45,
   "metadata": {},
   "outputs": [
    {
     "data": {
      "text/plain": [
       "array([5, 6])"
      ]
     },
     "execution_count": 45,
     "metadata": {},
     "output_type": "execute_result"
    }
   ],
   "source": [
    "np.diag(a)\n"
   ]
  },
  {
   "cell_type": "code",
   "execution_count": 106,
   "metadata": {},
   "outputs": [
    {
     "name": "stdout",
     "output_type": "stream",
     "text": [
      "[[3 6 5]\n",
      " [1 6 2]]\n"
     ]
    }
   ],
   "source": [
    "#check this \n",
    "np.diag(np.fliplr(a))\n",
    "b = np.fliplr(a)\n",
    "print(b)"
   ]
  },
  {
   "cell_type": "code",
   "execution_count": 73,
   "metadata": {},
   "outputs": [
    {
     "name": "stdout",
     "output_type": "stream",
     "text": [
      "[-1  2 -3  4 -5  6 -7  8 -9]\n",
      "9\n"
     ]
    }
   ],
   "source": [
    "array = np.array([1,2,3,4,5,6,7,8,9])\n",
    "\n",
    "for x in range(len(array)):\n",
    "    if array[x] %2 == 1:\n",
    "        array[x] *= -1\n",
    "\n",
    "print(array)\n",
    "print(len(array))\n",
    "\n",
    "## could also write and off number function\n",
    "odd_number = np.where(array %2 == 1)\n",
    "\n",
    "array[odd_number] *= -1"
   ]
  },
  {
   "cell_type": "code",
   "execution_count": 75,
   "metadata": {},
   "outputs": [
    {
     "name": "stdout",
     "output_type": "stream",
     "text": [
      "[-1  2 -3  4 -5  6 -7  8 -9]\n"
     ]
    }
   ],
   "source": [
    "array = np.array([1,2,3,4,5,6,7,8,9])\n",
    "## could also write and off number function\n",
    "odd_number = np.where(array %2 == 1)\n",
    "\n",
    "array[odd_number] *= -1\n",
    "print(array)"
   ]
  },
  {
   "cell_type": "code",
   "execution_count": null,
   "metadata": {},
   "outputs": [],
   "source": [
    "#array arithmetics \n",
    "\n",
    "a1 = np.array([[1,2,3],[7,1,3]])\n",
    "a2 = np.array([[4,6,9],[2,5,1]])\n",
    "\n",
    "add1 = a1 + a2\n",
    "add2 = np.add(a1,a2)\n",
    "\n",
    "sub1 = a1 - a2\n",
    "sub2 = np.subtract(a1,a2)\n",
    "\n",
    "multi1 = a1*a2\n",
    "multi2 = np.multiply(a1,a2)\n",
    "\n",
    "div1 = a1/a2\n",
    "div2 = np.divide(a1,a2)\n",
    "\n",
    "b = np.array([4,6],[2,5],[9,1])\n",
    "dotp = a.dot(b)\n",
    "\n",
    "exp = np.exp(a)\n",
    "sqroot = np.sqrt(a)\n",
    "sin = np.sin(a)\n",
    "cos = np.cos(a)\n",
    "log = np.log(a)\n",
    "\n"
   ]
  },
  {
   "cell_type": "code",
   "execution_count": 82,
   "metadata": {},
   "outputs": [
    {
     "name": "stdout",
     "output_type": "stream",
     "text": [
      "[ 8 11]\n"
     ]
    }
   ],
   "source": [
    "#numpy array stats\n",
    "\n",
    "# use axis = 0 ROW or axis = 1 COLUMN\n",
    "a5 = np.array([[1,2,5],[7,1,3]])\n",
    "#sum by column\n",
    "sum1 = a5.sum(axis=1)\n",
    "sum2 = np.sum(a5, axis=1)\n",
    "\n",
    "print(sum1)\n",
    "\n",
    "#max\n",
    "maxi = a5.max()\n",
    "maxi2 = a5.max(axis = 1)\n",
    "\n",
    "#standard deviation\n",
    "\n",
    "standev = np.std(a5)\n",
    "\n",
    "#mean\n",
    "avg = np.mean(a5, axis = 0)\n",
    "avg = np.mean(a5)\n"
   ]
  },
  {
   "cell_type": "code",
   "execution_count": null,
   "metadata": {},
   "outputs": [],
   "source": [
    "## triangle task \n",
    "\n",
    "a = np.array([0,0])\n",
    "b = np.array([0,3])\n",
    "c = np.array([1.5, 0])\n",
    "\n",
    "from numpy import linalg as la  #norm is the euclidean distance\n",
    "ab = la.norm(a-b)\n",
    "ac = la.norm(a-c)\n",
    "bc = la.norm(b-c)\n"
   ]
  },
  {
   "cell_type": "code",
   "execution_count": 111,
   "metadata": {},
   "outputs": [
    {
     "name": "stdout",
     "output_type": "stream",
     "text": [
      "[[1 2 5]\n",
      " [7 1 3]]\n",
      "[[1 2]\n",
      " [5 7]\n",
      " [1 3]]\n"
     ]
    }
   ],
   "source": [
    "a = np.array([[1,2,5],[7,1,3]])\n",
    "#transpose\n",
    "#aTr1 = np.transpose(a)\n",
    "aTr2= a.T\n",
    "print(a)\n",
    "#print(aTr2)\n",
    "\n",
    "#reshape\n",
    "b = reshape = np.reshape(a,(3,2))\n",
    "print(b)\n",
    "reshape = a.reshape(3,2)\n",
    "#reshape to row\n",
    "reshapetorow= a.reshape(6) #only give a column argument, row deafults as 1"
   ]
  },
  {
   "cell_type": "code",
   "execution_count": 116,
   "metadata": {},
   "outputs": [
    {
     "name": "stdout",
     "output_type": "stream",
     "text": [
      "[[ 1  2  3]\n",
      " [ 4  5  6]\n",
      " [ 7  8  9]\n",
      " [10 11 12]\n",
      " [13 14 15]\n",
      " [16 17 18]]\n",
      "[[ 1  2  3  7  8  9 13 14 15]\n",
      " [ 4  5  6 10 11 12 16 17 18]]\n"
     ]
    }
   ],
   "source": [
    "# stack array\n",
    "\n",
    "a8 = np.array([[1,2,5],[7,1,3]])\n",
    "a9 = np.array([[7,8],[4,1]])\n",
    "a10 = np.array([[9],[9]])\n",
    "\n",
    "#stack horizontal, stacks on the columns \n",
    "abc = np.hstack([a8,a9,a10])\n",
    "#print(abc)\n",
    "\n",
    "#\n",
    "a11 = np.array([[1,2,3],[4,5,6]])\n",
    "a12 = np.array([[7,8,9],[10,11,12]])\n",
    "a13 = np.array([[13,14,15],[16,17,18]])\n",
    "bac = np.vstack([a11,a12,a13])\n",
    "#print(bac)\n",
    "\n",
    "#concatenate\n",
    "ab = np.concatenate((a11,a12,a13),axis = 0)\n",
    "ba = np.concatenate((a11,a12,a13),axis = 1)\n",
    "\n",
    "print(ab)\n",
    "print(ba)"
   ]
  },
  {
   "cell_type": "code",
   "execution_count": null,
   "metadata": {},
   "outputs": [],
   "source": [
    "#save array to a file\n",
    "np.save(\"array_a\",a11) #name of file and chosen array to binary file .npy\n",
    "np.savez(\"many_array\",array1 = a11, array2 = a12) #have to store the arrays as a variable to save them .npz \n",
    "\n",
    "#save to text file and format preferences\n",
    "# %d integer form\n",
    "# %f float number\n",
    "# %s string number\n",
    "# %.2f float to nearest 2 dp\n",
    "\n",
    "np.savetxt(\"array.txt\", a11)\n",
    "np.savetxt(\"array2.txt\", a12, delimiter = \",\", fmt = \"%d\")\n",
    "\n",
    "#save to csv\n",
    "np.savetxt(\"array2.csv\", a12, delimiter = \",\", fmt = \"%d\")\n",
    "\n",
    "#load the npy file\n",
    "le = np.load(\"array_a.npy\")\n",
    "print(le)\n",
    "\n",
    "#load npz file\n",
    "le2 = np.load(\"many_array.npz\")\n",
    "print(le2[\"array1\"])\n",
    "print(le2[\"array2\"])\n",
    "\n",
    "#load the text file\n",
    "read_text = np.loadtxt(\"array.txt\") #if has delimiter need to include it here\n",
    "\n",
    "#load a csv file\n",
    "read_text = np.loadtxt(\"array2.csv\", delimiter = \",\")\n",
    "\n"
   ]
  },
  {
   "cell_type": "code",
   "execution_count": 115,
   "metadata": {},
   "outputs": [
    {
     "name": "stdout",
     "output_type": "stream",
     "text": [
      "[['-' 'c1' 'c2']\n",
      " ['r1' '2.0' '2.2']\n",
      " ['r2' '5.3' '7.8']\n",
      " ['r3' '1.9' '3.0']]\n"
     ]
    }
   ],
   "source": [
    "exportarray = np.array([[1.99,2.23],[5.30,7.75],[1.89,3.01]])\n",
    "#print(exportarray)\n",
    "\n",
    "roundedarray = np.around(exportarray, 1) #this rounds the array to 1 decimal place\n",
    "stringarray = np.char.mod(\"%.1f\", roundedarray) #this will convert to a string and also keep to 1 decimal float, so pretty much the same thing, can omit this step\n",
    "\n",
    "row_header = np.array([[\"r1\"],[\"r2\"],[\"r3\"]])\n",
    "#print(row_header)\n",
    "\n",
    "with_rowhead = np.hstack((row_header, stringarray))\n",
    "#print(with_rowhead)\n",
    "\n",
    "col_header = np.array([\"-\",\"c1\",\"c2\"])\n",
    "with_colhead = np.vstack((col_header, with_rowhead))\n",
    "print(with_colhead)\n",
    "\n",
    "np.savetxt(\"textfile.csv\", with_colhead, delimiter = \",\", fmt =\"%s\")"
   ]
  }
 ],
 "metadata": {
  "kernelspec": {
   "display_name": "Python 3",
   "language": "python",
   "name": "python3"
  },
  "language_info": {
   "codemirror_mode": {
    "name": "ipython",
    "version": 3
   },
   "file_extension": ".py",
   "mimetype": "text/x-python",
   "name": "python",
   "nbconvert_exporter": "python",
   "pygments_lexer": "ipython3",
   "version": "3.12.1"
  }
 },
 "nbformat": 4,
 "nbformat_minor": 2
}
